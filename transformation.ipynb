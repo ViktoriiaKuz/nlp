{
 "cells": [
  {
   "cell_type": "code",
   "execution_count": 45,
   "metadata": {
    "collapsed": true,
    "ExecuteTime": {
     "end_time": "2023-07-23T17:11:00.554599200Z",
     "start_time": "2023-07-23T17:11:00.551600900Z"
    }
   },
   "outputs": [],
   "source": [
    "import pandas as pd"
   ]
  },
  {
   "cell_type": "code",
   "execution_count": 46,
   "outputs": [
    {
     "name": "stdout",
     "output_type": "stream",
     "text": [
      "0          spam\n",
      "1          spam\n",
      "2          spam\n",
      "3          spam\n",
      "4          spam\n",
      "           ... \n",
      "2263323     ham\n",
      "2263324     ham\n",
      "2263325     ham\n",
      "2263326     ham\n",
      "2263327     ham\n",
      "Name: label, Length: 2263328, dtype: object\n",
      "0          spam\n",
      "1          spam\n",
      "2          spam\n",
      "3          spam\n",
      "4          spam\n",
      "           ... \n",
      "2263323     ham\n",
      "2263324     ham\n",
      "2263325     ham\n",
      "2263326     ham\n",
      "2263327     ham\n",
      "Name: label, Length: 2263328, dtype: object\n"
     ]
    }
   ],
   "source": [
    "file1 = pd.read_csv('C:\\\\Users\\\\kuzni\\\\PycharmProjects\\\\ScamDataCapture\\\\dfDATAfromFraudAdminBlocked7000.csv', encoding=\"utf-8-sig\")\n",
    "file1['label'] = 'spam'\n",
    "file2 = pd.read_csv('C:\\\\Users\\\\kuzni\\\\PycharmProjects\\\\ScamDataCapture\\\\hams7000.csv', encoding=\"utf-8-sig\")\n",
    "file2['label'] = 'ham'\n",
    "file = pd.merge(file1, file2, how='outer')\n",
    "df = file\n",
    "print(df['label'])"
   ],
   "metadata": {
    "collapsed": false
   }
  },
  {
   "cell_type": "code",
   "execution_count": null,
   "outputs": [],
   "source": [
    "for eachfile in range(len(df['bottom.payload'])):\n",
    "    df.replace({r'[\\n]+': ''}, regex=True, inplace=True)\n",
    "\n",
    "df.dropna(inplace=True)\n",
    "df.reset_index(drop=True, inplace=True)\n",
    "print(df)"
   ],
   "metadata": {
    "collapsed": false,
    "is_executing": true,
    "ExecuteTime": {
     "start_time": "2023-07-23T17:11:18.114607800Z"
    }
   }
  },
  {
   "cell_type": "code",
   "execution_count": null,
   "outputs": [],
   "source": [
    "new = df[\"_id\"].str.split(\" \", n=5, expand=True)"
   ],
   "metadata": {
    "collapsed": false,
    "is_executing": true
   }
  },
  {
   "cell_type": "code",
   "execution_count": null,
   "outputs": [],
   "source": [
    "# making separate  column from new data frame\n",
    "df[\"owner_Id\"] = new[0]\n",
    "df[\"ad_chat/ad_trigger\"] = new[1]\n",
    "df[\"chatId\"] = new[2]\n",
    "df[\"owner\"] = new[3]\n",
    "df[\"recipient\"] = new[4]\n",
    "\n",
    "# Dropping old Name columns\n",
    "df.drop(columns=[\"_id\"], inplace=True)\n",
    "df.drop(columns=[\"owner\"], inplace=True)\n",
    "# df display\n",
    "print(df)\n",
    "\n",
    "df['recipient'] = df['recipient'].str.replace(\"}\",\"\")\n",
    "df['chatId'] = df['chatId'].str.replace(\",\",\"\")\n",
    "df['ad_chat/ad_trigger'] = df['ad_chat/ad_trigger'].str.replace(\"{\",\"\")\n",
    "df['ad_chat/ad_trigger'] = df['ad_chat/ad_trigger'].str.replace(\",\",\"\")\n",
    "\n",
    "df['ad_chat'] = 'O'\n",
    "df['ad_trigger'] = 'O'\n",
    "print(df.columns)\n",
    "print(df['ad_chat/ad_trigger'].index)\n",
    "\n",
    "for eachrow in range(len(df['ad_chat/ad_trigger'])):\n",
    "    if df['ad_chat/ad_trigger'][eachrow] == 'ad_chat':\n",
    "        df.loc[eachrow, 'ad_chat'] = 1\n",
    "    else:\n",
    "        df.loc[eachrow,'ad_chat'] = 0\n",
    "\n",
    "for eachrow in range(len(df['ad_chat/ad_trigger'])):\n",
    "    if df['ad_chat/ad_trigger'][eachrow] == 'ad_trigger':\n",
    "        df.loc[eachrow,'ad_trigger'] = 1\n",
    "    else:\n",
    "        df.loc[eachrow,'ad_trigger'] = 0\n",
    "\n",
    "df.drop(columns=[\"ad_chat/ad_trigger\"], inplace=True)"
   ],
   "metadata": {
    "collapsed": false,
    "is_executing": true
   }
  },
  {
   "cell_type": "code",
   "execution_count": null,
   "outputs": [],
   "source": [
    "\n",
    "aggregation_dict = {\n",
    "    'recipient': 'nunique',\n",
    "    'chatId': 'nunique',\n",
    "    'ad_chat': 'sum',\n",
    "    'ad_trigger': 'sum',\n",
    "    # 'updated': 'max',\n",
    "    'bottom.payload': ['count', 'nunique'],\n",
    "    'bottom.payload': lambda x: x.tolist(),  # Combine messages into a list\n",
    "}\n",
    "new_messages_df = df.groupby(\"owner_Id\").agg(aggregation_dict)\n",
    "most_frequent_labels = df.groupby(\"owner_Id\")[\"label\"].apply(lambda x: x.mode().iloc[0])\n",
    "\n",
    "# Create a dictionary mapping owner_id to the most frequent label\n",
    "owner_to_label_dict = most_frequent_labels.to_dict()\n",
    "new_messages_df['owner_Id'] = new_messages_df.index\n",
    "# Map the \"owner_Id\" to the most frequent label using the dictionary\n",
    "new_messages_df['label'] = new_messages_df['owner_Id'].map(owner_to_label_dict)\n",
    "new_messages_df['newest_message'] = df.groupby(\"owner_Id\")[\"updated\"].max()\n",
    "new_messages_df['oldest_message'] = df.groupby(\"owner_Id\")[\"updated\"].min()\n",
    "new_messages_df['total_messages'] = df.groupby(\"owner_Id\")[\"bottom.payload\"].count()\n",
    "new_messages_df['total_unique_messages'] = df.groupby(\"owner_Id\")[\"bottom.payload\"].nunique()\n",
    "\n",
    "new_messages_df.columns = ['total_recipients', 'total_chats', 'total_ad_chats', 'total_ad_triggers',\n",
    "                           'text','owner_id','label','newest_message', 'oldest_message', 'total_messages', 'total_unique_messages']\n",
    "\n",
    "print(new_messages_df)"
   ],
   "metadata": {
    "collapsed": false,
    "is_executing": true
   }
  },
  {
   "cell_type": "code",
   "execution_count": null,
   "outputs": [],
   "source": [
    "from datetime import datetime\n",
    "\n",
    "for x in range(len(new_messages_df['newest_message'])):\n",
    "     oid = new_messages_df.index[x]\n",
    "     print(oid)\n",
    "     start = new_messages_df.iloc[x]['oldest_message']\n",
    "     # print(start)\n",
    "     end = new_messages_df.iloc[x]['newest_message']\n",
    "     # print(end)\n",
    "     new_messages_df.loc[oid,'duration'] = datetime.strptime(str(end),\"%Y-%m-%d %H:%M:%S\")- datetime.strptime(str(start), \"%Y-%m-%d %H:%M:%S\")\n",
    "\n",
    "\n",
    "print(new_messages_df)"
   ],
   "metadata": {
    "collapsed": false,
    "is_executing": true
   }
  },
  {
   "cell_type": "code",
   "execution_count": null,
   "outputs": [],
   "source": [
    "eachrow = 0\n",
    "for eachrow in range(len(new_messages_df['duration'])):\n",
    "     oid = new_messages_df.index[eachrow]\n",
    "     if new_messages_df.iloc[eachrow]['duration']:\n",
    "         head, sep, tail = str(new_messages_df.iloc[eachrow]['duration']).partition(' ')\n",
    "         if head == 0:\n",
    "             new_messages_df.loc[oid, 'chats_per_days'] = new_messages_df.loc[oid, 'total_chats']/0.001\n",
    "         else:\n",
    "             new_messages_df.loc[oid, 'chats_per_days'] = new_messages_df.loc[oid, 'total_chats']/float(head)\n",
    "     else:\n",
    "         new_messages_df.loc[oid, 'chats_per_days'] = 0.0001\n",
    "     eachrow+=1\n",
    "\n",
    "for eachrow in range(len(new_messages_df['duration'])):\n",
    "     oid = new_messages_df.index[eachrow]\n",
    "     if new_messages_df.iloc[eachrow]['duration']:\n",
    "         head, sep, tail = str(new_messages_df.iloc[eachrow]['duration']).partition(' ')\n",
    "         if head == 0:\n",
    "             new_messages_df.loc[oid, 'recipients_per_days'] = new_messages_df.loc[oid, 'total_chats']/0.001\n",
    "         else:\n",
    "             new_messages_df.loc[oid, 'recipients_per_days'] = new_messages_df.loc[oid, 'total_recipients']/float(head)\n",
    "     else:\n",
    "         new_messages_df.loc[oid, 'recipients_per_days'] = 0.0001\n",
    "\n",
    "print(new_messages_df[['text','duration']])"
   ],
   "metadata": {
    "collapsed": false,
    "is_executing": true
   }
  },
  {
   "cell_type": "code",
   "execution_count": null,
   "outputs": [],
   "source": [
    "arrayTest = []\n",
    "for res in range(len(new_messages_df['text'])):\n",
    "    test = new_messages_df.iloc[res]['text']\n",
    "    arrayTest.append(''.join([str(ele) + \" \" for ele in test]))\n",
    "print(arrayTest)\n",
    "\n",
    "import re\n",
    "\n",
    "# Clean the array\n",
    "cleaned_array = []\n",
    "for item in arrayTest:\n",
    "    cleaned_item = re.sub(r'[\\n\\d📣☘️\\\\]', '', item)\n",
    "    cleaned_array.append(cleaned_item.strip())\n",
    "\n",
    "print(cleaned_array)"
   ],
   "metadata": {
    "collapsed": false,
    "is_executing": true
   }
  },
  {
   "cell_type": "code",
   "execution_count": null,
   "outputs": [],
   "source": [
    "import re\n",
    "phrases_to_delete = [\"посмотрел(а) ваш номер телефона\",\"актуально\",\"просмотрел(а) ваш номер телефона\", \"ваше объявление\",\"Name:\",\"bottom.payload\",\"Name: , dtype: object\",\"Name: , Length: , dtype: object\",\"Name: , dtype: object\",  \"добавил(а) в Избранное\", \"dtype:\" ,\"object\", \"dtype: object\", \"просмотрел(а) ваш номер телефона\", \"Length: , dtype: object\", \"Ещё актуально?\", \"n/\"]\n",
    "\n",
    "# Construct a regular expression pattern with all the phrases to delete\n",
    "pattern = r'\\b(?:{})\\b'.format('|'.join(map(re.escape, phrases_to_delete)))\n",
    "\n",
    "# Clean the array by removing the specified phrases\n",
    "cleaned_arr = [re.sub(pattern, '', item) for item in cleaned_array]\n",
    "\n",
    "import langdetect\n",
    "import spacy\n",
    "\n",
    "def preprocess_text(text):\n",
    "    # Check if input is a list of texts\n",
    "    if isinstance(text, list):\n",
    "        preprocessed_texts = []\n",
    "        for t in text:\n",
    "            preprocessed_texts.append(preprocess_single_text(t))\n",
    "        return preprocessed_texts\n",
    "    else:\n",
    "        return preprocess_single_text(text)\n",
    "\n",
    "def preprocess_single_text(text):\n",
    "    # Detect language\n",
    "    try:\n",
    "        language = langdetect.detect(text)\n",
    "    except langdetect.lang_detect_exception.LangDetectException:\n",
    "        language = 'unknown'\n",
    "\n",
    "    # Load the appropriate Spacy model and stop words for the detected language\n",
    "    if language == 'hy':  # Armenian\n",
    "        nlp = spacy.load('hy_core_news_sm')\n",
    "    elif language == 'ru':  # Russian\n",
    "        nlp = spacy.load('ru_core_news_sm')\n",
    "    elif language == 'pl':  # Polish\n",
    "        nlp = spacy.load('pl_core_news_sm')\n",
    "    else:  # Default to English model\n",
    "        nlp = spacy.load('en_core_web_sm')\n",
    "\n",
    "    # Remove stop words and perform lemmatization after lowercasing\n",
    "    doc = nlp(text.lower())\n",
    "    lemmatized_words = [token.lemma_ for token in doc if not token.is_stop]\n",
    "\n",
    "    return ' '.join(lemmatized_words)\n",
    "\n",
    "cleaned_data = [re.sub(r'\\s+', ' ', item) for item in preprocess_text(cleaned_arr)]\n",
    "new_messages_df['text'] = cleaned_data\n",
    "\n",
    "print(new_messages_df['text'])"
   ],
   "metadata": {
    "collapsed": false,
    "is_executing": true
   }
  },
  {
   "cell_type": "markdown",
   "source": [],
   "metadata": {
    "collapsed": false
   }
  },
  {
   "cell_type": "code",
   "execution_count": null,
   "outputs": [],
   "source": [
    "import os\n",
    "\n",
    "def new_messages_to_file(df):\n",
    "    # Create the directory\n",
    "    directory = 'files'\n",
    "    if not os.path.exists(directory):\n",
    "        os.makedirs(directory)\n",
    "\n",
    "    # Save the CSV files in the created directory\n",
    "    for name in '1':\n",
    "        df.to_csv(os.path.join(directory, f'{name}preprocessed_data_all.csv'), encoding=\"utf-8-sig\")\n",
    "\n",
    "\n",
    "new_messages_to_file(new_messages_df)"
   ],
   "metadata": {
    "collapsed": false,
    "is_executing": true
   }
  },
  {
   "cell_type": "code",
   "execution_count": null,
   "outputs": [],
   "source": [],
   "metadata": {
    "collapsed": false,
    "is_executing": true
   }
  }
 ],
 "metadata": {
  "kernelspec": {
   "display_name": "Python 3",
   "language": "python",
   "name": "python3"
  },
  "language_info": {
   "codemirror_mode": {
    "name": "ipython",
    "version": 2
   },
   "file_extension": ".py",
   "mimetype": "text/x-python",
   "name": "python",
   "nbconvert_exporter": "python",
   "pygments_lexer": "ipython2",
   "version": "2.7.6"
  }
 },
 "nbformat": 4,
 "nbformat_minor": 0
}
