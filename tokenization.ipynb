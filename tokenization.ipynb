{
 "cells": [
  {
   "cell_type": "code",
   "execution_count": 80,
   "metadata": {
    "collapsed": true,
    "ExecuteTime": {
     "end_time": "2023-07-23T15:58:52.562176Z",
     "start_time": "2023-07-23T15:58:52.532286700Z"
    }
   },
   "outputs": [],
   "source": [
    "import pandas as pd\n",
    "file = pd.read_csv('C:\\\\Users\\\\kuzni\\\\PycharmProjects\\\\pythonProject1\\\\files\\\\1preprocessed_data_all.csv', encoding=\"utf-8-sig\")\n",
    "data = file"
   ]
  },
  {
   "cell_type": "code",
   "execution_count": 81,
   "outputs": [
    {
     "data": {
      "text/plain": "0     добрый день . договариваться , высылать информ...\n1     уважаемые клиент , просить – сделать ! 😱 🔥 🔥 🔥...\n2     номер просмотреть покупатель страна помнить пр...\n3                                                 гуля \n4     жаныбек account- account- аз аз жаныбек отдади...\n5     жаркий летний день 🥵 , тяжёлый выходить улица ...\n6     🔥 ысык күндөр ысык - көлгө тартат . кошулуңуз ...\n7     kupuj ulubiony marka atrakcyjny cena lalafo ! ...\n8     🙌 🏻cześć ! 📆 mamy początek miesiąca , a to ozn...\n9     🔥 ысык күндөр ысык - көлгө тартат . кошулуңуз ...\n10    poslednja cena irma voli vaš ogla . ne ustruča...\n11    poslednja cena je izvolite mogu da spustim din...\n12    zdravo , smo mi - lalafo 😉 da li vam je kupac ...\n13    salam gec cavab gelse wt yazin zeymet olmasa s...\n14    izvoli te poz prodat je imate u slikama ... ma...\n15    da li je aktuelan ? br account- voli vaš ogla ...\n16    жаркий летний день 🥵 , тяжёлый выходить улица ...\n17    хб ? отдадите , , ? извинить , неактуальный 🔥 ...\n18    писать знать смс пишишь уялбайсынарбы .... ......\n19                     vaxid akmatbaev vaxid akmatbaev \n20    позвонить $ задавать глупый вопрос спасибо бол...\n21    здравствовать ❕ звать дастан ... помочь продаж...\n22                                              спасибо\n23    ? ? ? красавчик ? красавчик красавчик красавчи...\n24     https://lalafo.kg/bishkek/ads/prodau-ili-mena...\n25    tim отстань фотка напиши нужный деньга ? жаль ...\n26    здравствовать позвонить номер айгуля управлять...\n27    , окончательно здравствовать фишка.kg помочь ?...\n28                                      да , пожалуйста\n29    🙌 🏻cześć ! 📆 mamy początek miesiąca , a to ozn...\nName: text, dtype: object"
     },
     "execution_count": 81,
     "metadata": {},
     "output_type": "execute_result"
    }
   ],
   "source": [
    "data['text']"
   ],
   "metadata": {
    "collapsed": false,
    "ExecuteTime": {
     "end_time": "2023-07-23T15:59:02.096239500Z",
     "start_time": "2023-07-23T15:59:02.085359500Z"
    }
   }
  },
  {
   "cell_type": "code",
   "execution_count": 82,
   "outputs": [
    {
     "data": {
      "text/plain": "'уважаемые клиент , просить – сделать ! 😱 🔥 🔥 🔥 🌷 специальный акция категория “ строительный отделочный услуга ” lalafo продлеваться май включительно ! 🔥 дарить личный профиль встроить кешбеком % месяц . 🔥 каждый пополнение поступать кошелёк + % сумма ! 👛 💣 ⚡ получить ? ✅ пополнять кошелёк акция сом . ✅ получаете дополнительный кешбек сом . ✅ итого кошелёк сом . 🤩 🤩 🤩 🎁 получать подключить личный профиль: ✅ % постоянный кешбек каждый пополнение кошелёк ✅ увеличенный лимит бесплатный объявление размещение ✅ расширенные контактный 📌 персональный предложение подключить помощь менеджер . нажать кнопка \" связаться менеджер \" менеджер перезвонить ☎ , активировать акция 🚀 🚀 🚀 🔥 терять ни минута , жмите кнопка прямо сегодня получать звонок заказ . спешите , акция действовать май год включительно!с забота , lalafo 💚'"
     },
     "execution_count": 82,
     "metadata": {},
     "output_type": "execute_result"
    }
   ],
   "source": [
    "data['text'][1]"
   ],
   "metadata": {
    "collapsed": false,
    "ExecuteTime": {
     "end_time": "2023-07-23T15:59:04.789595100Z",
     "start_time": "2023-07-23T15:59:04.780476700Z"
    }
   }
  },
  {
   "cell_type": "code",
   "execution_count": 83,
   "outputs": [
    {
     "name": "stderr",
     "output_type": "stream",
     "text": [
      "[nltk_data] Downloading package punkt to\n",
      "[nltk_data]     C:\\Users\\kuzni\\AppData\\Roaming\\nltk_data...\n",
      "[nltk_data]   Package punkt is already up-to-date!\n"
     ]
    }
   ],
   "source": [
    "import nltk\n",
    "nltk.download(\"punkt\")\n",
    "import warnings\n",
    "warnings.filterwarnings('ignore')"
   ],
   "metadata": {
    "collapsed": false,
    "ExecuteTime": {
     "end_time": "2023-07-23T15:59:07.470684900Z",
     "start_time": "2023-07-23T15:59:07.314455300Z"
    }
   }
  },
  {
   "cell_type": "code",
   "execution_count": 84,
   "outputs": [],
   "source": [
    "ham_words = ''\n",
    "spam_words = ''"
   ],
   "metadata": {
    "collapsed": false,
    "ExecuteTime": {
     "end_time": "2023-07-23T15:59:10.212863500Z",
     "start_time": "2023-07-23T15:59:10.203349400Z"
    }
   }
  },
  {
   "cell_type": "code",
   "execution_count": 85,
   "outputs": [],
   "source": [
    "# Creating a corpus of spam messages\n",
    "for val in data[data['label'] == 'spam'].text:\n",
    "    text = val.lower()\n",
    "    tokens = nltk.word_tokenize(text)\n",
    "    for words in tokens:\n",
    "        spam_words = spam_words + words + ''\n",
    "\n",
    "# Creating a corpus of ham messages\n",
    "for val in data[data['label'] == 'ham'].text:\n",
    "    text = val.lower()\n",
    "    tokens = nltk.word_tokenize(text)\n",
    "    for words in tokens:\n",
    "        ham_words = ham_words + words + ''"
   ],
   "metadata": {
    "collapsed": false,
    "ExecuteTime": {
     "end_time": "2023-07-23T15:59:12.893120700Z",
     "start_time": "2023-07-23T15:59:12.787529800Z"
    }
   }
  },
  {
   "cell_type": "code",
   "execution_count": 87,
   "outputs": [
    {
     "name": "stdout",
     "output_type": "stream",
     "text": [
      "0     0\n",
      "1     0\n",
      "2     0\n",
      "3     0\n",
      "4     0\n",
      "5     0\n",
      "6     0\n",
      "7     0\n",
      "8     0\n",
      "9     0\n",
      "10    0\n",
      "11    0\n",
      "12    0\n",
      "13    0\n",
      "14    0\n",
      "15    0\n",
      "16    0\n",
      "17    0\n",
      "18    1\n",
      "19    1\n",
      "20    1\n",
      "21    1\n",
      "22    1\n",
      "23    1\n",
      "24    1\n",
      "25    1\n",
      "26    1\n",
      "27    1\n",
      "28    0\n",
      "29    0\n",
      "Name: label, dtype: int64\n"
     ]
    }
   ],
   "source": [
    "data = data.replace(['ham','spam'],[0, 1])\n",
    "print(data['label'])"
   ],
   "metadata": {
    "collapsed": false,
    "ExecuteTime": {
     "end_time": "2023-07-23T16:00:42.675530100Z",
     "start_time": "2023-07-23T16:00:42.664983500Z"
    }
   }
  },
  {
   "cell_type": "code",
   "execution_count": 88,
   "outputs": [
    {
     "data": {
      "text/plain": "   owner_Id  total_recipients  total_chats  total_ad_chats  total_ad_triggers  \\\n0         1                 2            3               2                  0   \n1        10                 0            1               0                  0   \n2   1027169                35           30              43                 29   \n3   1028312                 1            1               1                  0   \n4   1041409                95           17             100                 65   \n\n                                                text  owner_id  label  \\\n0  добрый день  договариваться  высылать информац...         1      0   \n1  уважаемые клиент  просить – сделать  😱 🔥 🔥 🔥 🌷...        10      0   \n2  номер просмотреть покупатель страна помнить пр...   1027169      0   \n3                                              гуля    1028312      0   \n4  жаныбек account account аз аз жаныбек отдадите...   1041409      0   \n\n        newest_message       oldest_message  total_messages  \\\n0  2023-06-15 04:32:19  2023-01-27 04:37:18               3   \n1  2023-05-22 06:23:31  2023-05-22 06:23:31               1   \n2  2023-07-11 09:58:15  2023-01-04 20:02:16              73   \n3  2023-05-11 07:03:48  2023-05-11 07:03:48               1   \n4  2023-07-11 04:49:57  2023-01-03 08:56:04             166   \n\n   total_unique_messages           duration  chats_per_days  \\\n0                      3  138 days 23:55:01        0.021739   \n1                      1    0 days 00:00:00        0.000100   \n2                     35  187 days 13:55:59        0.160428   \n3                      1    0 days 00:00:00        0.000100   \n4                     89  188 days 19:53:53        0.090426   \n\n   recipients_per_days  \n0             0.014493  \n1             0.000100  \n2             0.187166  \n3             0.000100  \n4             0.505319  ",
      "text/html": "<div>\n<style scoped>\n    .dataframe tbody tr th:only-of-type {\n        vertical-align: middle;\n    }\n\n    .dataframe tbody tr th {\n        vertical-align: top;\n    }\n\n    .dataframe thead th {\n        text-align: right;\n    }\n</style>\n<table border=\"1\" class=\"dataframe\">\n  <thead>\n    <tr style=\"text-align: right;\">\n      <th></th>\n      <th>owner_Id</th>\n      <th>total_recipients</th>\n      <th>total_chats</th>\n      <th>total_ad_chats</th>\n      <th>total_ad_triggers</th>\n      <th>text</th>\n      <th>owner_id</th>\n      <th>label</th>\n      <th>newest_message</th>\n      <th>oldest_message</th>\n      <th>total_messages</th>\n      <th>total_unique_messages</th>\n      <th>duration</th>\n      <th>chats_per_days</th>\n      <th>recipients_per_days</th>\n    </tr>\n  </thead>\n  <tbody>\n    <tr>\n      <th>0</th>\n      <td>1</td>\n      <td>2</td>\n      <td>3</td>\n      <td>2</td>\n      <td>0</td>\n      <td>добрый день  договариваться  высылать информац...</td>\n      <td>1</td>\n      <td>0</td>\n      <td>2023-06-15 04:32:19</td>\n      <td>2023-01-27 04:37:18</td>\n      <td>3</td>\n      <td>3</td>\n      <td>138 days 23:55:01</td>\n      <td>0.021739</td>\n      <td>0.014493</td>\n    </tr>\n    <tr>\n      <th>1</th>\n      <td>10</td>\n      <td>0</td>\n      <td>1</td>\n      <td>0</td>\n      <td>0</td>\n      <td>уважаемые клиент  просить – сделать  😱 🔥 🔥 🔥 🌷...</td>\n      <td>10</td>\n      <td>0</td>\n      <td>2023-05-22 06:23:31</td>\n      <td>2023-05-22 06:23:31</td>\n      <td>1</td>\n      <td>1</td>\n      <td>0 days 00:00:00</td>\n      <td>0.000100</td>\n      <td>0.000100</td>\n    </tr>\n    <tr>\n      <th>2</th>\n      <td>1027169</td>\n      <td>35</td>\n      <td>30</td>\n      <td>43</td>\n      <td>29</td>\n      <td>номер просмотреть покупатель страна помнить пр...</td>\n      <td>1027169</td>\n      <td>0</td>\n      <td>2023-07-11 09:58:15</td>\n      <td>2023-01-04 20:02:16</td>\n      <td>73</td>\n      <td>35</td>\n      <td>187 days 13:55:59</td>\n      <td>0.160428</td>\n      <td>0.187166</td>\n    </tr>\n    <tr>\n      <th>3</th>\n      <td>1028312</td>\n      <td>1</td>\n      <td>1</td>\n      <td>1</td>\n      <td>0</td>\n      <td>гуля</td>\n      <td>1028312</td>\n      <td>0</td>\n      <td>2023-05-11 07:03:48</td>\n      <td>2023-05-11 07:03:48</td>\n      <td>1</td>\n      <td>1</td>\n      <td>0 days 00:00:00</td>\n      <td>0.000100</td>\n      <td>0.000100</td>\n    </tr>\n    <tr>\n      <th>4</th>\n      <td>1041409</td>\n      <td>95</td>\n      <td>17</td>\n      <td>100</td>\n      <td>65</td>\n      <td>жаныбек account account аз аз жаныбек отдадите...</td>\n      <td>1041409</td>\n      <td>0</td>\n      <td>2023-07-11 04:49:57</td>\n      <td>2023-01-03 08:56:04</td>\n      <td>166</td>\n      <td>89</td>\n      <td>188 days 19:53:53</td>\n      <td>0.090426</td>\n      <td>0.505319</td>\n    </tr>\n  </tbody>\n</table>\n</div>"
     },
     "execution_count": 88,
     "metadata": {},
     "output_type": "execute_result"
    }
   ],
   "source": [
    "import string\n",
    "def text_process(text):\n",
    "\n",
    "    text = text.translate(str.maketrans('', '', string.punctuation))\n",
    "\n",
    "\n",
    "    return \"\".join(text)\n",
    "\n",
    "data['text'] = data['text'].apply(text_process)\n",
    "data.head()"
   ],
   "metadata": {
    "collapsed": false,
    "ExecuteTime": {
     "end_time": "2023-07-23T16:01:01.880751400Z",
     "start_time": "2023-07-23T16:01:01.853450700Z"
    }
   }
  },
  {
   "cell_type": "code",
   "execution_count": 89,
   "outputs": [],
   "source": [
    "text = pd.DataFrame(data['text'])\n",
    "label = pd.DataFrame(data['label'])"
   ],
   "metadata": {
    "collapsed": false,
    "ExecuteTime": {
     "end_time": "2023-07-23T16:01:06.024221900Z",
     "start_time": "2023-07-23T16:01:06.011853Z"
    }
   }
  },
  {
   "cell_type": "code",
   "execution_count": 90,
   "outputs": [
    {
     "name": "stdout",
     "output_type": "stream",
     "text": [
      "Total words in data set:  2166\n"
     ]
    }
   ],
   "source": [
    "## Counting how many times a word appears in the dataset\n",
    "\n",
    "from collections import Counter\n",
    "\n",
    "total_counts = Counter()\n",
    "for i in range(len(text)):\n",
    "    for word in text.values[i][0].split(\" \"):\n",
    "        total_counts[word] += 1\n",
    "\n",
    "print(\"Total words in data set: \", len(total_counts))"
   ],
   "metadata": {
    "collapsed": false,
    "ExecuteTime": {
     "end_time": "2023-07-23T16:01:09.605720Z",
     "start_time": "2023-07-23T16:01:09.600714900Z"
    }
   }
  },
  {
   "cell_type": "code",
   "execution_count": 91,
   "outputs": [
    {
     "name": "stdout",
     "output_type": "stream",
     "text": [
      "['', 'da', 'обмен', 'ogla', 'se', 'ne', 'vaš', 'poruku', 'voli', 'ustručavajte', 'napišete', 'интересовать', 'account', 'сом', 'httpslalafokgbishkekadsprodauilimenauid', 'здравствовать', 'm', 'lalafo', 'болот', 'je', 'деньга', '✅', 'бир', 'номер', 'керек', 'нужный', 'спасибо', 'var', 'позвонить', '❤', 'pulu', 'azn', 'httpslalafokgbishkekadsprodaetsaid', 'менен', 'товар', 'бишкек', 'httpstmegulbazar', '🚙', 'үчүн', 'алуу', 'бар', 'заказ', '⚡', 'ар', 'кошумча', 'üçün', 'воскресение', 'страница', 'алса', 'автор', 'əlaqə', 'alex', 'тапса', 'бирок', 'саат', 'маалымат', 'суббота', 'бензин', 'профиль', 'elə']\n"
     ]
    }
   ],
   "source": [
    "vocab = sorted(total_counts, key=total_counts.get, reverse=True)\n",
    "print(vocab[:60])"
   ],
   "metadata": {
    "collapsed": false,
    "ExecuteTime": {
     "end_time": "2023-07-23T16:01:12.919434200Z",
     "start_time": "2023-07-23T16:01:12.911233600Z"
    }
   }
  },
  {
   "cell_type": "code",
   "execution_count": 92,
   "outputs": [],
   "source": [
    "vocab_size = len(vocab)\n",
    "word2idx = {}\n",
    "#print vocab_size\n",
    "for i, word in enumerate(vocab):\n",
    "    word2idx[word] = i"
   ],
   "metadata": {
    "collapsed": false,
    "ExecuteTime": {
     "end_time": "2023-07-23T16:01:43.657263Z",
     "start_time": "2023-07-23T16:01:43.653751200Z"
    }
   }
  },
  {
   "cell_type": "code",
   "execution_count": 93,
   "outputs": [],
   "source": [
    "import numpy as np\n",
    "\n",
    "# Text to Vector\n",
    "def text_to_vector(text):\n",
    "    word_vector = np.zeros(vocab_size)\n",
    "    for word in text.split(\" \"):\n",
    "        if word2idx.get(word) is None:\n",
    "            continue\n",
    "        else:\n",
    "            word_vector[word2idx.get(word)] += 1\n",
    "    return np.array(word_vector)"
   ],
   "metadata": {
    "collapsed": false,
    "ExecuteTime": {
     "end_time": "2023-07-23T16:01:46.736997500Z",
     "start_time": "2023-07-23T16:01:46.727519300Z"
    }
   }
  },
  {
   "cell_type": "code",
   "execution_count": 94,
   "outputs": [
    {
     "data": {
      "text/plain": "(30, 2166)"
     },
     "execution_count": 94,
     "metadata": {},
     "output_type": "execute_result"
    }
   ],
   "source": [
    "# Convert all titles to vectors\n",
    "word_vectors = np.zeros((len(text), len(vocab)), dtype=np.int_)\n",
    "for i, (_, text_) in enumerate(text.iterrows()):\n",
    "    word_vectors[i] = text_to_vector(text_[0])\n",
    "\n",
    "word_vectors.shape"
   ],
   "metadata": {
    "collapsed": false,
    "ExecuteTime": {
     "end_time": "2023-07-23T16:01:48.913328100Z",
     "start_time": "2023-07-23T16:01:48.900256700Z"
    }
   }
  },
  {
   "cell_type": "code",
   "execution_count": 98,
   "outputs": [
    {
     "name": "stdout",
     "output_type": "stream",
     "text": [
      "    owner_Id  total_recipients  total_chats  total_ad_chats  \\\n",
      "0          1                 2            3               2   \n",
      "1         10                 0            1               0   \n",
      "2    1027169                35           30              43   \n",
      "3    1028312                 1            1               1   \n",
      "4    1041409                95           17             100   \n",
      "5    1045307                99           80             101   \n",
      "6    1049554                 7            8               7   \n",
      "7        113                 0            1               0   \n",
      "8      11723                 0            1               0   \n",
      "9    1190699                40           35              42   \n",
      "10   1206794                 3            2               3   \n",
      "11   1248302                10           10              10   \n",
      "12   1305227                 2            4               4   \n",
      "13   1386418                40           47              47   \n",
      "14   1503750                48           53              53   \n",
      "15   1582510                74          150             157   \n",
      "16   1585714               119           94             127   \n",
      "17   1585859                29           33              32   \n",
      "18   1602712               161          194             194   \n",
      "19   1630810                 1            1               1   \n",
      "20   1683849                81           89              89   \n",
      "21   1756555                21           21              21   \n",
      "22   1799864                 1            1               1   \n",
      "23   1801794                13           13              13   \n",
      "24   1824279               438          504             504   \n",
      "25   1838918               118          141             141   \n",
      "26   1905843                14           14              14   \n",
      "27   1910349                15           20              20   \n",
      "28        20                 2            2               2   \n",
      "29        32                 0            1               0   \n",
      "\n",
      "    total_ad_triggers                                               text  \\\n",
      "0                   0  добрый день  договариваться  высылать информац...   \n",
      "1                   0  уважаемые клиент  просить – сделать  😱 🔥 🔥 🔥 🌷...   \n",
      "2                  29  номер просмотреть покупатель страна помнить пр...   \n",
      "3                   0                                              гуля    \n",
      "4                  65  жаныбек account account аз аз жаныбек отдадите...   \n",
      "5                  13  жаркий летний день 🥵  тяжёлый выходить улица  ...   \n",
      "6                   0  🔥 ысык күндөр ысык  көлгө тартат  кошулуңуз  ⛱...   \n",
      "7                   0  kupuj ulubiony marka atrakcyjny cena lalafo  🤩...   \n",
      "8                   0  🙌 🏻cześć  📆 mamy początek miesiąca  a to oznac...   \n",
      "9                   8  🔥 ысык күндөр ысык  көлгө тартат  кошулуңуз  ⛱...   \n",
      "10                  2  poslednja cena irma voli vaš ogla  ne ustručav...   \n",
      "11                  2  poslednja cena je izvolite mogu da spustim din...   \n",
      "12                  1  zdravo  smo mi  lalafo 😉 da li vam je kupac pr...   \n",
      "13                  9  salam gec cavab gelse wt yazin zeymet olmasa s...   \n",
      "14                  1  izvoli te poz prodat je imate u slikama  marta...   \n",
      "15                 87  da li je aktuelan  br account voli vaš ogla  n...   \n",
      "16                 36  жаркий летний день 🥵  тяжёлый выходить улица  ...   \n",
      "17                  0  хб  отдадите    извинить  неактуальный 🔥 ысык ...   \n",
      "18                  1  писать знать смс пишишь уялбайсынарбы   сфера ...   \n",
      "19                  1                   vaxid akmatbaev vaxid akmatbaev    \n",
      "20                  0  позвонить  задавать глупый вопрос спасибо боль...   \n",
      "21                  0  здравствовать ❕ звать дастан  помочь продажа в...   \n",
      "22                  0                                            спасибо   \n",
      "23                  0     красавчик  красавчик красавчик красавчик кр...   \n",
      "24                  0   httpslalafokgbishkekadsprodauilimenauid https...   \n",
      "25                  0  tim отстань фотка напиши нужный деньга  жаль л...   \n",
      "26                  0  здравствовать позвонить номер айгуля управлять...   \n",
      "27                  0   окончательно здравствовать фишкаkg помочь  зд...   \n",
      "28                  0                                     да  пожалуйста   \n",
      "29                  0  🙌 🏻cześć  📆 mamy początek miesiąca  a to oznac...   \n",
      "\n",
      "    owner_id  label       newest_message       oldest_message  ...  ясно  \\\n",
      "0          1      0  2023-06-15 04:32:19  2023-01-27 04:37:18  ...     0   \n",
      "1         10      0  2023-05-22 06:23:31  2023-05-22 06:23:31  ...     0   \n",
      "2    1027169      0  2023-07-11 09:58:15  2023-01-04 20:02:16  ...     0   \n",
      "3    1028312      0  2023-05-11 07:03:48  2023-05-11 07:03:48  ...     0   \n",
      "4    1041409      0  2023-07-11 04:49:57  2023-01-03 08:56:04  ...     0   \n",
      "5    1045307      0  2023-07-12 07:07:43  2023-01-17 07:51:20  ...     0   \n",
      "6    1049554      0  2023-07-12 09:23:40  2023-01-03 19:21:31  ...     0   \n",
      "7        113      0  2023-07-05 10:52:27  2023-07-05 10:52:27  ...     0   \n",
      "8      11723      0  2023-07-01 08:01:59  2023-05-31 06:29:38  ...     0   \n",
      "9    1190699      0  2023-07-12 09:23:41  2023-01-04 07:39:13  ...     0   \n",
      "10   1206794      0  2023-02-01 20:41:23  2023-01-23 00:44:33  ...     0   \n",
      "11   1248302      0  2023-02-28 21:56:02  2023-01-12 22:41:28  ...     0   \n",
      "12   1305227      0  2023-04-04 12:42:03  2023-03-11 22:43:33  ...     0   \n",
      "13   1386418      0  2023-07-11 10:21:57  2023-01-02 19:35:40  ...     0   \n",
      "14   1503750      0  2023-07-02 21:26:17  2023-01-11 12:29:30  ...     0   \n",
      "15   1582510      0  2023-07-04 12:05:35  2023-01-10 16:05:40  ...     0   \n",
      "16   1585714      0  2023-07-12 07:07:43  2023-01-05 16:42:38  ...     0   \n",
      "17   1585859      0  2023-07-12 10:35:42  2023-07-09 17:52:20  ...     0   \n",
      "18   1602712      1  2023-03-08 20:47:21  2023-01-01 20:43:45  ...     0   \n",
      "19   1630810      1  2023-01-13 11:14:13  2023-01-13 11:14:13  ...     0   \n",
      "20   1683849      1  2023-03-29 15:47:14  2023-01-05 15:36:59  ...     0   \n",
      "21   1756555      1  2023-06-10 09:25:57  2023-04-07 10:57:53  ...     0   \n",
      "22   1799864      1  2023-02-17 07:26:29  2023-02-17 07:26:29  ...     0   \n",
      "23   1801794      1  2023-06-09 11:46:41  2023-02-02 18:48:05  ...     0   \n",
      "24   1824279      1  2023-02-09 17:14:25  2023-01-01 12:02:06  ...     1   \n",
      "25   1838918      1  2023-03-02 05:27:45  2023-01-23 11:38:34  ...     0   \n",
      "26   1905843      1  2023-02-22 05:50:58  2023-01-15 17:55:33  ...     0   \n",
      "27   1910349      1  2023-02-16 03:57:25  2023-01-30 19:55:20  ...     0   \n",
      "28        20      0  2023-03-01 09:54:17  2023-02-28 16:10:20  ...     0   \n",
      "29        32      0  2023-07-01 08:01:40  2023-05-31 06:29:37  ...     0   \n",
      "\n",
      "    ясный үйрөн  үчүн  өзгөргөндүгү  өзү  өзүң  өткөрүп  السلام  عليكم  \n",
      "0       0     0     2             0    0     0        1       0      0  \n",
      "1       0     0     0             0    0     0        0       0      0  \n",
      "2       0     0     0             0    0     0        0       0      0  \n",
      "3       0     0     0             0    0     0        0       0      0  \n",
      "4       0     0     0             0    0     0        0       0      0  \n",
      "5       0     0     0             0    0     0        0       0      0  \n",
      "6       0     0     1             0    0     0        0       0      0  \n",
      "7       0     0     0             0    0     0        0       0      0  \n",
      "8       0     0     0             1    0     0        0       0      0  \n",
      "9       0     0     1             0    0     0        0       0      0  \n",
      "10      0     0     0             0    0     0        0       0      0  \n",
      "11      0     0     0             0    0     0        0       0      0  \n",
      "12      0     0     0             0    0     0        0       0      0  \n",
      "13      0     0     0             0    0     0        0       0      0  \n",
      "14      0     0     0             0    0     0        0       0      0  \n",
      "15      0     0     0             0    0     0        0       0      0  \n",
      "16      0     0     0             0    0     0        0       2      2  \n",
      "17      0     0     1             0    0     0        0       0      0  \n",
      "18      1     1     1             0    0     2        0       0      0  \n",
      "19      0     0     0             0    0     0        0       0      0  \n",
      "20      0     0    20             0   20     0        0       0      0  \n",
      "21      0     0     0             0    0     0        0       0      0  \n",
      "22      0     0     0             0    0     0        0       0      0  \n",
      "23      0     0     0             0    0     0        0       0      0  \n",
      "24      0     0     0             0    0     0        0       0      0  \n",
      "25      0     0     0             0    0     0        0       0      0  \n",
      "26      0     0     0             0    0     0        0       0      0  \n",
      "27      0     0     0             0    0     0        0       0      0  \n",
      "28      0     0     0             0    0     0        0       0      0  \n",
      "29      0     0     0             1    0     0        0       0      0  \n",
      "\n",
      "[30 rows x 2066 columns]\n"
     ]
    }
   ],
   "source": [
    "from sklearn.feature_extraction.text import CountVectorizer\n",
    "\n",
    "# Initialize the CountVectorizer\n",
    "vectorizer = CountVectorizer()\n",
    "\n",
    "# Fit and transform the 'text' column using CountVectorizer\n",
    "vectors = vectorizer.fit_transform(data['text'])\n",
    "\n",
    "# Convert the sparse matrix to a DataFrame\n",
    "features_df = pd.DataFrame(vectors.toarray(), columns=vectorizer.get_feature_names_out())\n",
    "\n",
    "# Concatenate the original data DataFrame with the features DataFrame\n",
    "result_df_quant = pd.concat([data, features_df], axis=1)\n",
    "\n",
    "print(result_df_quant)"
   ],
   "metadata": {
    "collapsed": false,
    "ExecuteTime": {
     "end_time": "2023-07-23T16:10:15.508823600Z",
     "start_time": "2023-07-23T16:10:15.487927600Z"
    }
   }
  },
  {
   "cell_type": "code",
   "execution_count": 95,
   "outputs": [
    {
     "name": "stdout",
     "output_type": "stream",
     "text": [
      "    owner_Id  total_recipients  total_chats  total_ad_chats  \\\n",
      "0          1                 2            3               2   \n",
      "1         10                 0            1               0   \n",
      "2    1027169                35           30              43   \n",
      "3    1028312                 1            1               1   \n",
      "4    1041409                95           17             100   \n",
      "5    1045307                99           80             101   \n",
      "6    1049554                 7            8               7   \n",
      "7        113                 0            1               0   \n",
      "8      11723                 0            1               0   \n",
      "9    1190699                40           35              42   \n",
      "10   1206794                 3            2               3   \n",
      "11   1248302                10           10              10   \n",
      "12   1305227                 2            4               4   \n",
      "13   1386418                40           47              47   \n",
      "14   1503750                48           53              53   \n",
      "15   1582510                74          150             157   \n",
      "16   1585714               119           94             127   \n",
      "17   1585859                29           33              32   \n",
      "18   1602712               161          194             194   \n",
      "19   1630810                 1            1               1   \n",
      "20   1683849                81           89              89   \n",
      "21   1756555                21           21              21   \n",
      "22   1799864                 1            1               1   \n",
      "23   1801794                13           13              13   \n",
      "24   1824279               438          504             504   \n",
      "25   1838918               118          141             141   \n",
      "26   1905843                14           14              14   \n",
      "27   1910349                15           20              20   \n",
      "28        20                 2            2               2   \n",
      "29        32                 0            1               0   \n",
      "\n",
      "    total_ad_triggers                                               text  \\\n",
      "0                   0  добрый день  договариваться  высылать информац...   \n",
      "1                   0  уважаемые клиент  просить – сделать  😱 🔥 🔥 🔥 🌷...   \n",
      "2                  29  номер просмотреть покупатель страна помнить пр...   \n",
      "3                   0                                              гуля    \n",
      "4                  65  жаныбек account account аз аз жаныбек отдадите...   \n",
      "5                  13  жаркий летний день 🥵  тяжёлый выходить улица  ...   \n",
      "6                   0  🔥 ысык күндөр ысык  көлгө тартат  кошулуңуз  ⛱...   \n",
      "7                   0  kupuj ulubiony marka atrakcyjny cena lalafo  🤩...   \n",
      "8                   0  🙌 🏻cześć  📆 mamy początek miesiąca  a to oznac...   \n",
      "9                   8  🔥 ысык күндөр ысык  көлгө тартат  кошулуңуз  ⛱...   \n",
      "10                  2  poslednja cena irma voli vaš ogla  ne ustručav...   \n",
      "11                  2  poslednja cena je izvolite mogu da spustim din...   \n",
      "12                  1  zdravo  smo mi  lalafo 😉 da li vam je kupac pr...   \n",
      "13                  9  salam gec cavab gelse wt yazin zeymet olmasa s...   \n",
      "14                  1  izvoli te poz prodat je imate u slikama  marta...   \n",
      "15                 87  da li je aktuelan  br account voli vaš ogla  n...   \n",
      "16                 36  жаркий летний день 🥵  тяжёлый выходить улица  ...   \n",
      "17                  0  хб  отдадите    извинить  неактуальный 🔥 ысык ...   \n",
      "18                  1  писать знать смс пишишь уялбайсынарбы   сфера ...   \n",
      "19                  1                   vaxid akmatbaev vaxid akmatbaev    \n",
      "20                  0  позвонить  задавать глупый вопрос спасибо боль...   \n",
      "21                  0  здравствовать ❕ звать дастан  помочь продажа в...   \n",
      "22                  0                                            спасибо   \n",
      "23                  0     красавчик  красавчик красавчик красавчик кр...   \n",
      "24                  0   httpslalafokgbishkekadsprodauilimenauid https...   \n",
      "25                  0  tim отстань фотка напиши нужный деньга  жаль л...   \n",
      "26                  0  здравствовать позвонить номер айгуля управлять...   \n",
      "27                  0   окончательно здравствовать фишкаkg помочь  зд...   \n",
      "28                  0                                     да  пожалуйста   \n",
      "29                  0  🙌 🏻cześć  📆 mamy początek miesiąca  a to oznac...   \n",
      "\n",
      "    owner_id  label       newest_message       oldest_message  ...      ясно  \\\n",
      "0          1      0  2023-06-15 04:32:19  2023-01-27 04:37:18  ...  0.000000   \n",
      "1         10      0  2023-05-22 06:23:31  2023-05-22 06:23:31  ...  0.000000   \n",
      "2    1027169      0  2023-07-11 09:58:15  2023-01-04 20:02:16  ...  0.000000   \n",
      "3    1028312      0  2023-05-11 07:03:48  2023-05-11 07:03:48  ...  0.000000   \n",
      "4    1041409      0  2023-07-11 04:49:57  2023-01-03 08:56:04  ...  0.000000   \n",
      "5    1045307      0  2023-07-12 07:07:43  2023-01-17 07:51:20  ...  0.000000   \n",
      "6    1049554      0  2023-07-12 09:23:40  2023-01-03 19:21:31  ...  0.000000   \n",
      "7        113      0  2023-07-05 10:52:27  2023-07-05 10:52:27  ...  0.000000   \n",
      "8      11723      0  2023-07-01 08:01:59  2023-05-31 06:29:38  ...  0.000000   \n",
      "9    1190699      0  2023-07-12 09:23:41  2023-01-04 07:39:13  ...  0.000000   \n",
      "10   1206794      0  2023-02-01 20:41:23  2023-01-23 00:44:33  ...  0.000000   \n",
      "11   1248302      0  2023-02-28 21:56:02  2023-01-12 22:41:28  ...  0.000000   \n",
      "12   1305227      0  2023-04-04 12:42:03  2023-03-11 22:43:33  ...  0.000000   \n",
      "13   1386418      0  2023-07-11 10:21:57  2023-01-02 19:35:40  ...  0.000000   \n",
      "14   1503750      0  2023-07-02 21:26:17  2023-01-11 12:29:30  ...  0.000000   \n",
      "15   1582510      0  2023-07-04 12:05:35  2023-01-10 16:05:40  ...  0.000000   \n",
      "16   1585714      0  2023-07-12 07:07:43  2023-01-05 16:42:38  ...  0.000000   \n",
      "17   1585859      0  2023-07-12 10:35:42  2023-07-09 17:52:20  ...  0.000000   \n",
      "18   1602712      1  2023-03-08 20:47:21  2023-01-01 20:43:45  ...  0.000000   \n",
      "19   1630810      1  2023-01-13 11:14:13  2023-01-13 11:14:13  ...  0.000000   \n",
      "20   1683849      1  2023-03-29 15:47:14  2023-01-05 15:36:59  ...  0.000000   \n",
      "21   1756555      1  2023-06-10 09:25:57  2023-04-07 10:57:53  ...  0.000000   \n",
      "22   1799864      1  2023-02-17 07:26:29  2023-02-17 07:26:29  ...  0.000000   \n",
      "23   1801794      1  2023-06-09 11:46:41  2023-02-02 18:48:05  ...  0.000000   \n",
      "24   1824279      1  2023-02-09 17:14:25  2023-01-01 12:02:06  ...  0.006387   \n",
      "25   1838918      1  2023-03-02 05:27:45  2023-01-23 11:38:34  ...  0.000000   \n",
      "26   1905843      1  2023-02-22 05:50:58  2023-01-15 17:55:33  ...  0.000000   \n",
      "27   1910349      1  2023-02-16 03:57:25  2023-01-30 19:55:20  ...  0.000000   \n",
      "28        20      0  2023-03-01 09:54:17  2023-02-28 16:10:20  ...  0.000000   \n",
      "29        32      0  2023-07-01 08:01:40  2023-05-31 06:29:37  ...  0.000000   \n",
      "\n",
      "       ясный     үйрөн      үчүн  өзгөргөндүгү       өзү      өзүң   өткөрүп  \\\n",
      "0   0.000000  0.000000  0.049623       0.00000  0.000000  0.000000  0.037304   \n",
      "1   0.000000  0.000000  0.000000       0.00000  0.000000  0.000000  0.000000   \n",
      "2   0.000000  0.000000  0.000000       0.00000  0.000000  0.000000  0.000000   \n",
      "3   0.000000  0.000000  0.000000       0.00000  0.000000  0.000000  0.000000   \n",
      "4   0.000000  0.000000  0.000000       0.00000  0.000000  0.000000  0.000000   \n",
      "5   0.000000  0.000000  0.000000       0.00000  0.000000  0.000000  0.000000   \n",
      "6   0.000000  0.000000  0.105644       0.00000  0.000000  0.000000  0.000000   \n",
      "7   0.000000  0.000000  0.000000       0.00000  0.000000  0.000000  0.000000   \n",
      "8   0.000000  0.000000  0.000000       0.10738  0.000000  0.000000  0.000000   \n",
      "9   0.000000  0.000000  0.030191       0.00000  0.000000  0.000000  0.000000   \n",
      "10  0.000000  0.000000  0.000000       0.00000  0.000000  0.000000  0.000000   \n",
      "11  0.000000  0.000000  0.000000       0.00000  0.000000  0.000000  0.000000   \n",
      "12  0.000000  0.000000  0.000000       0.00000  0.000000  0.000000  0.000000   \n",
      "13  0.000000  0.000000  0.000000       0.00000  0.000000  0.000000  0.000000   \n",
      "14  0.000000  0.000000  0.000000       0.00000  0.000000  0.000000  0.000000   \n",
      "15  0.000000  0.000000  0.000000       0.00000  0.000000  0.000000  0.000000   \n",
      "16  0.000000  0.000000  0.000000       0.00000  0.000000  0.000000  0.000000   \n",
      "17  0.000000  0.000000  0.056291       0.00000  0.000000  0.000000  0.000000   \n",
      "18  0.023477  0.023477  0.015615       0.00000  0.000000  0.046954  0.000000   \n",
      "19  0.000000  0.000000  0.000000       0.00000  0.000000  0.000000  0.000000   \n",
      "20  0.000000  0.000000  0.091582       0.00000  0.137694  0.000000  0.000000   \n",
      "21  0.000000  0.000000  0.000000       0.00000  0.000000  0.000000  0.000000   \n",
      "22  0.000000  0.000000  0.000000       0.00000  0.000000  0.000000  0.000000   \n",
      "23  0.000000  0.000000  0.000000       0.00000  0.000000  0.000000  0.000000   \n",
      "24  0.000000  0.000000  0.000000       0.00000  0.000000  0.000000  0.000000   \n",
      "25  0.000000  0.000000  0.000000       0.00000  0.000000  0.000000  0.000000   \n",
      "26  0.000000  0.000000  0.000000       0.00000  0.000000  0.000000  0.000000   \n",
      "27  0.000000  0.000000  0.000000       0.00000  0.000000  0.000000  0.000000   \n",
      "28  0.000000  0.000000  0.000000       0.00000  0.000000  0.000000  0.000000   \n",
      "29  0.000000  0.000000  0.000000       0.10738  0.000000  0.000000  0.000000   \n",
      "\n",
      "      السلام     عليكم  \n",
      "0   0.000000  0.000000  \n",
      "1   0.000000  0.000000  \n",
      "2   0.000000  0.000000  \n",
      "3   0.000000  0.000000  \n",
      "4   0.000000  0.000000  \n",
      "5   0.000000  0.000000  \n",
      "6   0.000000  0.000000  \n",
      "7   0.000000  0.000000  \n",
      "8   0.000000  0.000000  \n",
      "9   0.000000  0.000000  \n",
      "10  0.000000  0.000000  \n",
      "11  0.000000  0.000000  \n",
      "12  0.000000  0.000000  \n",
      "13  0.000000  0.000000  \n",
      "14  0.000000  0.000000  \n",
      "15  0.000000  0.000000  \n",
      "16  0.085963  0.085963  \n",
      "17  0.000000  0.000000  \n",
      "18  0.000000  0.000000  \n",
      "19  0.000000  0.000000  \n",
      "20  0.000000  0.000000  \n",
      "21  0.000000  0.000000  \n",
      "22  0.000000  0.000000  \n",
      "23  0.000000  0.000000  \n",
      "24  0.000000  0.000000  \n",
      "25  0.000000  0.000000  \n",
      "26  0.000000  0.000000  \n",
      "27  0.000000  0.000000  \n",
      "28  0.000000  0.000000  \n",
      "29  0.000000  0.000000  \n",
      "\n",
      "[30 rows x 2066 columns]\n"
     ]
    },
    {
     "data": {
      "text/plain": "(30, 2051)"
     },
     "execution_count": 95,
     "metadata": {},
     "output_type": "execute_result"
    }
   ],
   "source": [
    "#convert the text data into vectors\n",
    "from sklearn.feature_extraction.text import TfidfVectorizer\n",
    "\n",
    "# Initialize the TfidfVectorizer\n",
    "vectorizer = TfidfVectorizer()\n",
    "\n",
    "# Fit and transform the 'text' column using TfidfVectorizer\n",
    "vectors = vectorizer.fit_transform(data['text'])\n",
    "\n",
    "# Convert the sparse matrix to a DataFrame\n",
    "features_df = pd.DataFrame(vectors.toarray(), columns=vectorizer.get_feature_names_out())\n",
    "\n",
    "# Concatenate the original data DataFrame with the features DataFrame\n",
    "result_df = pd.concat([data, features_df], axis=1)\n",
    "\n",
    "print(result_df)\n",
    "vectors.shape"
   ],
   "metadata": {
    "collapsed": false,
    "ExecuteTime": {
     "end_time": "2023-07-23T16:01:52.582208300Z",
     "start_time": "2023-07-23T16:01:52.555055900Z"
    }
   }
  },
  {
   "cell_type": "code",
   "execution_count": 99,
   "outputs": [],
   "source": [
    "import os\n",
    "\n",
    "def new_messages_to_file(df):\n",
    "    # Create the directory\n",
    "    directory = 'files'\n",
    "    if not os.path.exists(directory):\n",
    "        os.makedirs(directory)\n",
    "\n",
    "    # Save the CSV files in the created directory\n",
    "    for name in '1':\n",
    "        df.to_csv(os.path.join(directory, f'{name}tokenized_data.csv'), encoding=\"utf-8-sig\")\n",
    "\n",
    "\n",
    "new_messages_to_file(result_df)"
   ],
   "metadata": {
    "collapsed": false,
    "ExecuteTime": {
     "end_time": "2023-07-23T16:13:02.702835800Z",
     "start_time": "2023-07-23T16:13:02.656466Z"
    }
   }
  },
  {
   "cell_type": "code",
   "execution_count": null,
   "outputs": [],
   "source": [
    "# normalize parameters"
   ],
   "metadata": {
    "collapsed": false
   }
  },
  {
   "cell_type": "code",
   "execution_count": 102,
   "outputs": [],
   "source": [
    "from sklearn.preprocessing import MinMaxScaler\n",
    "\n",
    "# Create a copy of the DataFrame to store the normalized values\n",
    "result_df_normalized = result_df_quant.copy()\n",
    "\n",
    "# Select the columns you want to exclude from normalization\n",
    "columns_to_exclude = ['text', 'owner_id', 'owner_Id', 'newest_message', 'oldest_message', 'duration']\n",
    "\n",
    "# Get the list of columns to normalize by excluding the columns to exclude\n",
    "columns_to_normalize = [col for col in result_df_normalized.columns if col not in columns_to_exclude]\n",
    "\n",
    "# Initialize the MinMaxScaler\n",
    "scaler = MinMaxScaler()\n",
    "\n",
    "# Replace infinite and extremely large values with NaN\n",
    "result_df_normalized[columns_to_normalize] = result_df_quant[columns_to_normalize].replace([np.inf, -np.inf], np.nan)\n",
    "\n",
    "# Drop rows containing NaN (optional, depending on your data)\n",
    "result_df_normalized.dropna(subset=columns_to_normalize, inplace=True)\n",
    "\n",
    "# Apply Min-Max Scaling to the selected columns\n",
    "result_df_normalized[columns_to_normalize] = scaler.fit_transform(result_df_normalized[columns_to_normalize])"
   ],
   "metadata": {
    "collapsed": false,
    "ExecuteTime": {
     "end_time": "2023-07-23T16:20:03.062984400Z",
     "start_time": "2023-07-23T16:20:02.448225600Z"
    }
   }
  },
  {
   "cell_type": "code",
   "execution_count": 103,
   "outputs": [
    {
     "data": {
      "text/plain": "    owner_Id  total_recipients  total_chats  total_ad_chats  \\\n0          1          0.004566     0.003976        0.003968   \n1         10          0.000000     0.000000        0.000000   \n2    1027169          0.079909     0.057654        0.085317   \n3    1028312          0.002283     0.000000        0.001984   \n4    1041409          0.216895     0.031809        0.198413   \n5    1045307          0.226027     0.157058        0.200397   \n6    1049554          0.015982     0.013917        0.013889   \n7        113          0.000000     0.000000        0.000000   \n8      11723          0.000000     0.000000        0.000000   \n9    1190699          0.091324     0.067594        0.083333   \n10   1206794          0.006849     0.001988        0.005952   \n11   1248302          0.022831     0.017893        0.019841   \n12   1305227          0.004566     0.005964        0.007937   \n13   1386418          0.091324     0.091451        0.093254   \n14   1503750          0.109589     0.103380        0.105159   \n15   1582510          0.168950     0.296223        0.311508   \n16   1585714          0.271689     0.184891        0.251984   \n17   1585859          0.066210     0.063618        0.063492   \n18   1602712          0.367580     0.383698        0.384921   \n19   1630810          0.002283     0.000000        0.001984   \n20   1683849          0.184932     0.174950        0.176587   \n21   1756555          0.047945     0.039761        0.041667   \n22   1799864          0.002283     0.000000        0.001984   \n23   1801794          0.029680     0.023857        0.025794   \n24   1824279          1.000000     1.000000        1.000000   \n25   1838918          0.269406     0.278330        0.279762   \n26   1905843          0.031963     0.025845        0.027778   \n27   1910349          0.034247     0.037773        0.039683   \n29        32          0.000000     0.000000        0.000000   \n\n    total_ad_triggers                                               text  \\\n0            0.000000  добрый день  договариваться  высылать информац...   \n1            0.000000  уважаемые клиент  просить – сделать  😱 🔥 🔥 🔥 🌷...   \n2            0.333333  номер просмотреть покупатель страна помнить пр...   \n3            0.000000                                              гуля    \n4            0.747126  жаныбек account account аз аз жаныбек отдадите...   \n5            0.149425  жаркий летний день 🥵  тяжёлый выходить улица  ...   \n6            0.000000  🔥 ысык күндөр ысык  көлгө тартат  кошулуңуз  ⛱...   \n7            0.000000  kupuj ulubiony marka atrakcyjny cena lalafo  🤩...   \n8            0.000000  🙌 🏻cześć  📆 mamy początek miesiąca  a to oznac...   \n9            0.091954  🔥 ысык күндөр ысык  көлгө тартат  кошулуңуз  ⛱...   \n10           0.022989  poslednja cena irma voli vaš ogla  ne ustručav...   \n11           0.022989  poslednja cena je izvolite mogu da spustim din...   \n12           0.011494  zdravo  smo mi  lalafo 😉 da li vam je kupac pr...   \n13           0.103448  salam gec cavab gelse wt yazin zeymet olmasa s...   \n14           0.011494  izvoli te poz prodat je imate u slikama  marta...   \n15           1.000000  da li je aktuelan  br account voli vaš ogla  n...   \n16           0.413793  жаркий летний день 🥵  тяжёлый выходить улица  ...   \n17           0.000000  хб  отдадите    извинить  неактуальный 🔥 ысык ...   \n18           0.011494  писать знать смс пишишь уялбайсынарбы   сфера ...   \n19           0.011494                   vaxid akmatbaev vaxid akmatbaev    \n20           0.000000  позвонить  задавать глупый вопрос спасибо боль...   \n21           0.000000  здравствовать ❕ звать дастан  помочь продажа в...   \n22           0.000000                                            спасибо   \n23           0.000000     красавчик  красавчик красавчик красавчик кр...   \n24           0.000000   httpslalafokgbishkekadsprodauilimenauid https...   \n25           0.000000  tim отстань фотка напиши нужный деньга  жаль л...   \n26           0.000000  здравствовать позвонить номер айгуля управлять...   \n27           0.000000   окончательно здравствовать фишкаkg помочь  зд...   \n29           0.000000  🙌 🏻cześć  📆 mamy początek miesiąca  a to oznac...   \n\n    owner_id  label       newest_message       oldest_message  ...  ясно  \\\n0          1    0.0  2023-06-15 04:32:19  2023-01-27 04:37:18  ...   0.0   \n1         10    0.0  2023-05-22 06:23:31  2023-05-22 06:23:31  ...   0.0   \n2    1027169    0.0  2023-07-11 09:58:15  2023-01-04 20:02:16  ...   0.0   \n3    1028312    0.0  2023-05-11 07:03:48  2023-05-11 07:03:48  ...   0.0   \n4    1041409    0.0  2023-07-11 04:49:57  2023-01-03 08:56:04  ...   0.0   \n5    1045307    0.0  2023-07-12 07:07:43  2023-01-17 07:51:20  ...   0.0   \n6    1049554    0.0  2023-07-12 09:23:40  2023-01-03 19:21:31  ...   0.0   \n7        113    0.0  2023-07-05 10:52:27  2023-07-05 10:52:27  ...   0.0   \n8      11723    0.0  2023-07-01 08:01:59  2023-05-31 06:29:38  ...   0.0   \n9    1190699    0.0  2023-07-12 09:23:41  2023-01-04 07:39:13  ...   0.0   \n10   1206794    0.0  2023-02-01 20:41:23  2023-01-23 00:44:33  ...   0.0   \n11   1248302    0.0  2023-02-28 21:56:02  2023-01-12 22:41:28  ...   0.0   \n12   1305227    0.0  2023-04-04 12:42:03  2023-03-11 22:43:33  ...   0.0   \n13   1386418    0.0  2023-07-11 10:21:57  2023-01-02 19:35:40  ...   0.0   \n14   1503750    0.0  2023-07-02 21:26:17  2023-01-11 12:29:30  ...   0.0   \n15   1582510    0.0  2023-07-04 12:05:35  2023-01-10 16:05:40  ...   0.0   \n16   1585714    0.0  2023-07-12 07:07:43  2023-01-05 16:42:38  ...   0.0   \n17   1585859    0.0  2023-07-12 10:35:42  2023-07-09 17:52:20  ...   0.0   \n18   1602712    1.0  2023-03-08 20:47:21  2023-01-01 20:43:45  ...   0.0   \n19   1630810    1.0  2023-01-13 11:14:13  2023-01-13 11:14:13  ...   0.0   \n20   1683849    1.0  2023-03-29 15:47:14  2023-01-05 15:36:59  ...   0.0   \n21   1756555    1.0  2023-06-10 09:25:57  2023-04-07 10:57:53  ...   0.0   \n22   1799864    1.0  2023-02-17 07:26:29  2023-02-17 07:26:29  ...   0.0   \n23   1801794    1.0  2023-06-09 11:46:41  2023-02-02 18:48:05  ...   0.0   \n24   1824279    1.0  2023-02-09 17:14:25  2023-01-01 12:02:06  ...   1.0   \n25   1838918    1.0  2023-03-02 05:27:45  2023-01-23 11:38:34  ...   0.0   \n26   1905843    1.0  2023-02-22 05:50:58  2023-01-15 17:55:33  ...   0.0   \n27   1910349    1.0  2023-02-16 03:57:25  2023-01-30 19:55:20  ...   0.0   \n29        32    0.0  2023-07-01 08:01:40  2023-05-31 06:29:37  ...   0.0   \n\n    ясный үйрөн  үчүн  өзгөргөндүгү  өзү  өзүң  өткөрүп  السلام  عليكم  \n0     0.0   0.0  0.10           0.0  0.0   0.0      1.0     0.0    0.0  \n1     0.0   0.0  0.00           0.0  0.0   0.0      0.0     0.0    0.0  \n2     0.0   0.0  0.00           0.0  0.0   0.0      0.0     0.0    0.0  \n3     0.0   0.0  0.00           0.0  0.0   0.0      0.0     0.0    0.0  \n4     0.0   0.0  0.00           0.0  0.0   0.0      0.0     0.0    0.0  \n5     0.0   0.0  0.00           0.0  0.0   0.0      0.0     0.0    0.0  \n6     0.0   0.0  0.05           0.0  0.0   0.0      0.0     0.0    0.0  \n7     0.0   0.0  0.00           0.0  0.0   0.0      0.0     0.0    0.0  \n8     0.0   0.0  0.00           1.0  0.0   0.0      0.0     0.0    0.0  \n9     0.0   0.0  0.05           0.0  0.0   0.0      0.0     0.0    0.0  \n10    0.0   0.0  0.00           0.0  0.0   0.0      0.0     0.0    0.0  \n11    0.0   0.0  0.00           0.0  0.0   0.0      0.0     0.0    0.0  \n12    0.0   0.0  0.00           0.0  0.0   0.0      0.0     0.0    0.0  \n13    0.0   0.0  0.00           0.0  0.0   0.0      0.0     0.0    0.0  \n14    0.0   0.0  0.00           0.0  0.0   0.0      0.0     0.0    0.0  \n15    0.0   0.0  0.00           0.0  0.0   0.0      0.0     0.0    0.0  \n16    0.0   0.0  0.00           0.0  0.0   0.0      0.0     1.0    1.0  \n17    0.0   0.0  0.05           0.0  0.0   0.0      0.0     0.0    0.0  \n18    1.0   1.0  0.05           0.0  0.0   1.0      0.0     0.0    0.0  \n19    0.0   0.0  0.00           0.0  0.0   0.0      0.0     0.0    0.0  \n20    0.0   0.0  1.00           0.0  1.0   0.0      0.0     0.0    0.0  \n21    0.0   0.0  0.00           0.0  0.0   0.0      0.0     0.0    0.0  \n22    0.0   0.0  0.00           0.0  0.0   0.0      0.0     0.0    0.0  \n23    0.0   0.0  0.00           0.0  0.0   0.0      0.0     0.0    0.0  \n24    0.0   0.0  0.00           0.0  0.0   0.0      0.0     0.0    0.0  \n25    0.0   0.0  0.00           0.0  0.0   0.0      0.0     0.0    0.0  \n26    0.0   0.0  0.00           0.0  0.0   0.0      0.0     0.0    0.0  \n27    0.0   0.0  0.00           0.0  0.0   0.0      0.0     0.0    0.0  \n29    0.0   0.0  0.00           1.0  0.0   0.0      0.0     0.0    0.0  \n\n[29 rows x 2066 columns]",
      "text/html": "<div>\n<style scoped>\n    .dataframe tbody tr th:only-of-type {\n        vertical-align: middle;\n    }\n\n    .dataframe tbody tr th {\n        vertical-align: top;\n    }\n\n    .dataframe thead th {\n        text-align: right;\n    }\n</style>\n<table border=\"1\" class=\"dataframe\">\n  <thead>\n    <tr style=\"text-align: right;\">\n      <th></th>\n      <th>owner_Id</th>\n      <th>total_recipients</th>\n      <th>total_chats</th>\n      <th>total_ad_chats</th>\n      <th>total_ad_triggers</th>\n      <th>text</th>\n      <th>owner_id</th>\n      <th>label</th>\n      <th>newest_message</th>\n      <th>oldest_message</th>\n      <th>...</th>\n      <th>ясно</th>\n      <th>ясный</th>\n      <th>үйрөн</th>\n      <th>үчүн</th>\n      <th>өзгөргөндүгү</th>\n      <th>өзү</th>\n      <th>өзүң</th>\n      <th>өткөрүп</th>\n      <th>السلام</th>\n      <th>عليكم</th>\n    </tr>\n  </thead>\n  <tbody>\n    <tr>\n      <th>0</th>\n      <td>1</td>\n      <td>0.004566</td>\n      <td>0.003976</td>\n      <td>0.003968</td>\n      <td>0.000000</td>\n      <td>добрый день  договариваться  высылать информац...</td>\n      <td>1</td>\n      <td>0.0</td>\n      <td>2023-06-15 04:32:19</td>\n      <td>2023-01-27 04:37:18</td>\n      <td>...</td>\n      <td>0.0</td>\n      <td>0.0</td>\n      <td>0.0</td>\n      <td>0.10</td>\n      <td>0.0</td>\n      <td>0.0</td>\n      <td>0.0</td>\n      <td>1.0</td>\n      <td>0.0</td>\n      <td>0.0</td>\n    </tr>\n    <tr>\n      <th>1</th>\n      <td>10</td>\n      <td>0.000000</td>\n      <td>0.000000</td>\n      <td>0.000000</td>\n      <td>0.000000</td>\n      <td>уважаемые клиент  просить – сделать  😱 🔥 🔥 🔥 🌷...</td>\n      <td>10</td>\n      <td>0.0</td>\n      <td>2023-05-22 06:23:31</td>\n      <td>2023-05-22 06:23:31</td>\n      <td>...</td>\n      <td>0.0</td>\n      <td>0.0</td>\n      <td>0.0</td>\n      <td>0.00</td>\n      <td>0.0</td>\n      <td>0.0</td>\n      <td>0.0</td>\n      <td>0.0</td>\n      <td>0.0</td>\n      <td>0.0</td>\n    </tr>\n    <tr>\n      <th>2</th>\n      <td>1027169</td>\n      <td>0.079909</td>\n      <td>0.057654</td>\n      <td>0.085317</td>\n      <td>0.333333</td>\n      <td>номер просмотреть покупатель страна помнить пр...</td>\n      <td>1027169</td>\n      <td>0.0</td>\n      <td>2023-07-11 09:58:15</td>\n      <td>2023-01-04 20:02:16</td>\n      <td>...</td>\n      <td>0.0</td>\n      <td>0.0</td>\n      <td>0.0</td>\n      <td>0.00</td>\n      <td>0.0</td>\n      <td>0.0</td>\n      <td>0.0</td>\n      <td>0.0</td>\n      <td>0.0</td>\n      <td>0.0</td>\n    </tr>\n    <tr>\n      <th>3</th>\n      <td>1028312</td>\n      <td>0.002283</td>\n      <td>0.000000</td>\n      <td>0.001984</td>\n      <td>0.000000</td>\n      <td>гуля</td>\n      <td>1028312</td>\n      <td>0.0</td>\n      <td>2023-05-11 07:03:48</td>\n      <td>2023-05-11 07:03:48</td>\n      <td>...</td>\n      <td>0.0</td>\n      <td>0.0</td>\n      <td>0.0</td>\n      <td>0.00</td>\n      <td>0.0</td>\n      <td>0.0</td>\n      <td>0.0</td>\n      <td>0.0</td>\n      <td>0.0</td>\n      <td>0.0</td>\n    </tr>\n    <tr>\n      <th>4</th>\n      <td>1041409</td>\n      <td>0.216895</td>\n      <td>0.031809</td>\n      <td>0.198413</td>\n      <td>0.747126</td>\n      <td>жаныбек account account аз аз жаныбек отдадите...</td>\n      <td>1041409</td>\n      <td>0.0</td>\n      <td>2023-07-11 04:49:57</td>\n      <td>2023-01-03 08:56:04</td>\n      <td>...</td>\n      <td>0.0</td>\n      <td>0.0</td>\n      <td>0.0</td>\n      <td>0.00</td>\n      <td>0.0</td>\n      <td>0.0</td>\n      <td>0.0</td>\n      <td>0.0</td>\n      <td>0.0</td>\n      <td>0.0</td>\n    </tr>\n    <tr>\n      <th>5</th>\n      <td>1045307</td>\n      <td>0.226027</td>\n      <td>0.157058</td>\n      <td>0.200397</td>\n      <td>0.149425</td>\n      <td>жаркий летний день 🥵  тяжёлый выходить улица  ...</td>\n      <td>1045307</td>\n      <td>0.0</td>\n      <td>2023-07-12 07:07:43</td>\n      <td>2023-01-17 07:51:20</td>\n      <td>...</td>\n      <td>0.0</td>\n      <td>0.0</td>\n      <td>0.0</td>\n      <td>0.00</td>\n      <td>0.0</td>\n      <td>0.0</td>\n      <td>0.0</td>\n      <td>0.0</td>\n      <td>0.0</td>\n      <td>0.0</td>\n    </tr>\n    <tr>\n      <th>6</th>\n      <td>1049554</td>\n      <td>0.015982</td>\n      <td>0.013917</td>\n      <td>0.013889</td>\n      <td>0.000000</td>\n      <td>🔥 ысык күндөр ысык  көлгө тартат  кошулуңуз  ⛱...</td>\n      <td>1049554</td>\n      <td>0.0</td>\n      <td>2023-07-12 09:23:40</td>\n      <td>2023-01-03 19:21:31</td>\n      <td>...</td>\n      <td>0.0</td>\n      <td>0.0</td>\n      <td>0.0</td>\n      <td>0.05</td>\n      <td>0.0</td>\n      <td>0.0</td>\n      <td>0.0</td>\n      <td>0.0</td>\n      <td>0.0</td>\n      <td>0.0</td>\n    </tr>\n    <tr>\n      <th>7</th>\n      <td>113</td>\n      <td>0.000000</td>\n      <td>0.000000</td>\n      <td>0.000000</td>\n      <td>0.000000</td>\n      <td>kupuj ulubiony marka atrakcyjny cena lalafo  🤩...</td>\n      <td>113</td>\n      <td>0.0</td>\n      <td>2023-07-05 10:52:27</td>\n      <td>2023-07-05 10:52:27</td>\n      <td>...</td>\n      <td>0.0</td>\n      <td>0.0</td>\n      <td>0.0</td>\n      <td>0.00</td>\n      <td>0.0</td>\n      <td>0.0</td>\n      <td>0.0</td>\n      <td>0.0</td>\n      <td>0.0</td>\n      <td>0.0</td>\n    </tr>\n    <tr>\n      <th>8</th>\n      <td>11723</td>\n      <td>0.000000</td>\n      <td>0.000000</td>\n      <td>0.000000</td>\n      <td>0.000000</td>\n      <td>🙌 🏻cześć  📆 mamy początek miesiąca  a to oznac...</td>\n      <td>11723</td>\n      <td>0.0</td>\n      <td>2023-07-01 08:01:59</td>\n      <td>2023-05-31 06:29:38</td>\n      <td>...</td>\n      <td>0.0</td>\n      <td>0.0</td>\n      <td>0.0</td>\n      <td>0.00</td>\n      <td>1.0</td>\n      <td>0.0</td>\n      <td>0.0</td>\n      <td>0.0</td>\n      <td>0.0</td>\n      <td>0.0</td>\n    </tr>\n    <tr>\n      <th>9</th>\n      <td>1190699</td>\n      <td>0.091324</td>\n      <td>0.067594</td>\n      <td>0.083333</td>\n      <td>0.091954</td>\n      <td>🔥 ысык күндөр ысык  көлгө тартат  кошулуңуз  ⛱...</td>\n      <td>1190699</td>\n      <td>0.0</td>\n      <td>2023-07-12 09:23:41</td>\n      <td>2023-01-04 07:39:13</td>\n      <td>...</td>\n      <td>0.0</td>\n      <td>0.0</td>\n      <td>0.0</td>\n      <td>0.05</td>\n      <td>0.0</td>\n      <td>0.0</td>\n      <td>0.0</td>\n      <td>0.0</td>\n      <td>0.0</td>\n      <td>0.0</td>\n    </tr>\n    <tr>\n      <th>10</th>\n      <td>1206794</td>\n      <td>0.006849</td>\n      <td>0.001988</td>\n      <td>0.005952</td>\n      <td>0.022989</td>\n      <td>poslednja cena irma voli vaš ogla  ne ustručav...</td>\n      <td>1206794</td>\n      <td>0.0</td>\n      <td>2023-02-01 20:41:23</td>\n      <td>2023-01-23 00:44:33</td>\n      <td>...</td>\n      <td>0.0</td>\n      <td>0.0</td>\n      <td>0.0</td>\n      <td>0.00</td>\n      <td>0.0</td>\n      <td>0.0</td>\n      <td>0.0</td>\n      <td>0.0</td>\n      <td>0.0</td>\n      <td>0.0</td>\n    </tr>\n    <tr>\n      <th>11</th>\n      <td>1248302</td>\n      <td>0.022831</td>\n      <td>0.017893</td>\n      <td>0.019841</td>\n      <td>0.022989</td>\n      <td>poslednja cena je izvolite mogu da spustim din...</td>\n      <td>1248302</td>\n      <td>0.0</td>\n      <td>2023-02-28 21:56:02</td>\n      <td>2023-01-12 22:41:28</td>\n      <td>...</td>\n      <td>0.0</td>\n      <td>0.0</td>\n      <td>0.0</td>\n      <td>0.00</td>\n      <td>0.0</td>\n      <td>0.0</td>\n      <td>0.0</td>\n      <td>0.0</td>\n      <td>0.0</td>\n      <td>0.0</td>\n    </tr>\n    <tr>\n      <th>12</th>\n      <td>1305227</td>\n      <td>0.004566</td>\n      <td>0.005964</td>\n      <td>0.007937</td>\n      <td>0.011494</td>\n      <td>zdravo  smo mi  lalafo 😉 da li vam je kupac pr...</td>\n      <td>1305227</td>\n      <td>0.0</td>\n      <td>2023-04-04 12:42:03</td>\n      <td>2023-03-11 22:43:33</td>\n      <td>...</td>\n      <td>0.0</td>\n      <td>0.0</td>\n      <td>0.0</td>\n      <td>0.00</td>\n      <td>0.0</td>\n      <td>0.0</td>\n      <td>0.0</td>\n      <td>0.0</td>\n      <td>0.0</td>\n      <td>0.0</td>\n    </tr>\n    <tr>\n      <th>13</th>\n      <td>1386418</td>\n      <td>0.091324</td>\n      <td>0.091451</td>\n      <td>0.093254</td>\n      <td>0.103448</td>\n      <td>salam gec cavab gelse wt yazin zeymet olmasa s...</td>\n      <td>1386418</td>\n      <td>0.0</td>\n      <td>2023-07-11 10:21:57</td>\n      <td>2023-01-02 19:35:40</td>\n      <td>...</td>\n      <td>0.0</td>\n      <td>0.0</td>\n      <td>0.0</td>\n      <td>0.00</td>\n      <td>0.0</td>\n      <td>0.0</td>\n      <td>0.0</td>\n      <td>0.0</td>\n      <td>0.0</td>\n      <td>0.0</td>\n    </tr>\n    <tr>\n      <th>14</th>\n      <td>1503750</td>\n      <td>0.109589</td>\n      <td>0.103380</td>\n      <td>0.105159</td>\n      <td>0.011494</td>\n      <td>izvoli te poz prodat je imate u slikama  marta...</td>\n      <td>1503750</td>\n      <td>0.0</td>\n      <td>2023-07-02 21:26:17</td>\n      <td>2023-01-11 12:29:30</td>\n      <td>...</td>\n      <td>0.0</td>\n      <td>0.0</td>\n      <td>0.0</td>\n      <td>0.00</td>\n      <td>0.0</td>\n      <td>0.0</td>\n      <td>0.0</td>\n      <td>0.0</td>\n      <td>0.0</td>\n      <td>0.0</td>\n    </tr>\n    <tr>\n      <th>15</th>\n      <td>1582510</td>\n      <td>0.168950</td>\n      <td>0.296223</td>\n      <td>0.311508</td>\n      <td>1.000000</td>\n      <td>da li je aktuelan  br account voli vaš ogla  n...</td>\n      <td>1582510</td>\n      <td>0.0</td>\n      <td>2023-07-04 12:05:35</td>\n      <td>2023-01-10 16:05:40</td>\n      <td>...</td>\n      <td>0.0</td>\n      <td>0.0</td>\n      <td>0.0</td>\n      <td>0.00</td>\n      <td>0.0</td>\n      <td>0.0</td>\n      <td>0.0</td>\n      <td>0.0</td>\n      <td>0.0</td>\n      <td>0.0</td>\n    </tr>\n    <tr>\n      <th>16</th>\n      <td>1585714</td>\n      <td>0.271689</td>\n      <td>0.184891</td>\n      <td>0.251984</td>\n      <td>0.413793</td>\n      <td>жаркий летний день 🥵  тяжёлый выходить улица  ...</td>\n      <td>1585714</td>\n      <td>0.0</td>\n      <td>2023-07-12 07:07:43</td>\n      <td>2023-01-05 16:42:38</td>\n      <td>...</td>\n      <td>0.0</td>\n      <td>0.0</td>\n      <td>0.0</td>\n      <td>0.00</td>\n      <td>0.0</td>\n      <td>0.0</td>\n      <td>0.0</td>\n      <td>0.0</td>\n      <td>1.0</td>\n      <td>1.0</td>\n    </tr>\n    <tr>\n      <th>17</th>\n      <td>1585859</td>\n      <td>0.066210</td>\n      <td>0.063618</td>\n      <td>0.063492</td>\n      <td>0.000000</td>\n      <td>хб  отдадите    извинить  неактуальный 🔥 ысык ...</td>\n      <td>1585859</td>\n      <td>0.0</td>\n      <td>2023-07-12 10:35:42</td>\n      <td>2023-07-09 17:52:20</td>\n      <td>...</td>\n      <td>0.0</td>\n      <td>0.0</td>\n      <td>0.0</td>\n      <td>0.05</td>\n      <td>0.0</td>\n      <td>0.0</td>\n      <td>0.0</td>\n      <td>0.0</td>\n      <td>0.0</td>\n      <td>0.0</td>\n    </tr>\n    <tr>\n      <th>18</th>\n      <td>1602712</td>\n      <td>0.367580</td>\n      <td>0.383698</td>\n      <td>0.384921</td>\n      <td>0.011494</td>\n      <td>писать знать смс пишишь уялбайсынарбы   сфера ...</td>\n      <td>1602712</td>\n      <td>1.0</td>\n      <td>2023-03-08 20:47:21</td>\n      <td>2023-01-01 20:43:45</td>\n      <td>...</td>\n      <td>0.0</td>\n      <td>1.0</td>\n      <td>1.0</td>\n      <td>0.05</td>\n      <td>0.0</td>\n      <td>0.0</td>\n      <td>1.0</td>\n      <td>0.0</td>\n      <td>0.0</td>\n      <td>0.0</td>\n    </tr>\n    <tr>\n      <th>19</th>\n      <td>1630810</td>\n      <td>0.002283</td>\n      <td>0.000000</td>\n      <td>0.001984</td>\n      <td>0.011494</td>\n      <td>vaxid akmatbaev vaxid akmatbaev</td>\n      <td>1630810</td>\n      <td>1.0</td>\n      <td>2023-01-13 11:14:13</td>\n      <td>2023-01-13 11:14:13</td>\n      <td>...</td>\n      <td>0.0</td>\n      <td>0.0</td>\n      <td>0.0</td>\n      <td>0.00</td>\n      <td>0.0</td>\n      <td>0.0</td>\n      <td>0.0</td>\n      <td>0.0</td>\n      <td>0.0</td>\n      <td>0.0</td>\n    </tr>\n    <tr>\n      <th>20</th>\n      <td>1683849</td>\n      <td>0.184932</td>\n      <td>0.174950</td>\n      <td>0.176587</td>\n      <td>0.000000</td>\n      <td>позвонить  задавать глупый вопрос спасибо боль...</td>\n      <td>1683849</td>\n      <td>1.0</td>\n      <td>2023-03-29 15:47:14</td>\n      <td>2023-01-05 15:36:59</td>\n      <td>...</td>\n      <td>0.0</td>\n      <td>0.0</td>\n      <td>0.0</td>\n      <td>1.00</td>\n      <td>0.0</td>\n      <td>1.0</td>\n      <td>0.0</td>\n      <td>0.0</td>\n      <td>0.0</td>\n      <td>0.0</td>\n    </tr>\n    <tr>\n      <th>21</th>\n      <td>1756555</td>\n      <td>0.047945</td>\n      <td>0.039761</td>\n      <td>0.041667</td>\n      <td>0.000000</td>\n      <td>здравствовать ❕ звать дастан  помочь продажа в...</td>\n      <td>1756555</td>\n      <td>1.0</td>\n      <td>2023-06-10 09:25:57</td>\n      <td>2023-04-07 10:57:53</td>\n      <td>...</td>\n      <td>0.0</td>\n      <td>0.0</td>\n      <td>0.0</td>\n      <td>0.00</td>\n      <td>0.0</td>\n      <td>0.0</td>\n      <td>0.0</td>\n      <td>0.0</td>\n      <td>0.0</td>\n      <td>0.0</td>\n    </tr>\n    <tr>\n      <th>22</th>\n      <td>1799864</td>\n      <td>0.002283</td>\n      <td>0.000000</td>\n      <td>0.001984</td>\n      <td>0.000000</td>\n      <td>спасибо</td>\n      <td>1799864</td>\n      <td>1.0</td>\n      <td>2023-02-17 07:26:29</td>\n      <td>2023-02-17 07:26:29</td>\n      <td>...</td>\n      <td>0.0</td>\n      <td>0.0</td>\n      <td>0.0</td>\n      <td>0.00</td>\n      <td>0.0</td>\n      <td>0.0</td>\n      <td>0.0</td>\n      <td>0.0</td>\n      <td>0.0</td>\n      <td>0.0</td>\n    </tr>\n    <tr>\n      <th>23</th>\n      <td>1801794</td>\n      <td>0.029680</td>\n      <td>0.023857</td>\n      <td>0.025794</td>\n      <td>0.000000</td>\n      <td>красавчик  красавчик красавчик красавчик кр...</td>\n      <td>1801794</td>\n      <td>1.0</td>\n      <td>2023-06-09 11:46:41</td>\n      <td>2023-02-02 18:48:05</td>\n      <td>...</td>\n      <td>0.0</td>\n      <td>0.0</td>\n      <td>0.0</td>\n      <td>0.00</td>\n      <td>0.0</td>\n      <td>0.0</td>\n      <td>0.0</td>\n      <td>0.0</td>\n      <td>0.0</td>\n      <td>0.0</td>\n    </tr>\n    <tr>\n      <th>24</th>\n      <td>1824279</td>\n      <td>1.000000</td>\n      <td>1.000000</td>\n      <td>1.000000</td>\n      <td>0.000000</td>\n      <td>httpslalafokgbishkekadsprodauilimenauid https...</td>\n      <td>1824279</td>\n      <td>1.0</td>\n      <td>2023-02-09 17:14:25</td>\n      <td>2023-01-01 12:02:06</td>\n      <td>...</td>\n      <td>1.0</td>\n      <td>0.0</td>\n      <td>0.0</td>\n      <td>0.00</td>\n      <td>0.0</td>\n      <td>0.0</td>\n      <td>0.0</td>\n      <td>0.0</td>\n      <td>0.0</td>\n      <td>0.0</td>\n    </tr>\n    <tr>\n      <th>25</th>\n      <td>1838918</td>\n      <td>0.269406</td>\n      <td>0.278330</td>\n      <td>0.279762</td>\n      <td>0.000000</td>\n      <td>tim отстань фотка напиши нужный деньга  жаль л...</td>\n      <td>1838918</td>\n      <td>1.0</td>\n      <td>2023-03-02 05:27:45</td>\n      <td>2023-01-23 11:38:34</td>\n      <td>...</td>\n      <td>0.0</td>\n      <td>0.0</td>\n      <td>0.0</td>\n      <td>0.00</td>\n      <td>0.0</td>\n      <td>0.0</td>\n      <td>0.0</td>\n      <td>0.0</td>\n      <td>0.0</td>\n      <td>0.0</td>\n    </tr>\n    <tr>\n      <th>26</th>\n      <td>1905843</td>\n      <td>0.031963</td>\n      <td>0.025845</td>\n      <td>0.027778</td>\n      <td>0.000000</td>\n      <td>здравствовать позвонить номер айгуля управлять...</td>\n      <td>1905843</td>\n      <td>1.0</td>\n      <td>2023-02-22 05:50:58</td>\n      <td>2023-01-15 17:55:33</td>\n      <td>...</td>\n      <td>0.0</td>\n      <td>0.0</td>\n      <td>0.0</td>\n      <td>0.00</td>\n      <td>0.0</td>\n      <td>0.0</td>\n      <td>0.0</td>\n      <td>0.0</td>\n      <td>0.0</td>\n      <td>0.0</td>\n    </tr>\n    <tr>\n      <th>27</th>\n      <td>1910349</td>\n      <td>0.034247</td>\n      <td>0.037773</td>\n      <td>0.039683</td>\n      <td>0.000000</td>\n      <td>окончательно здравствовать фишкаkg помочь  зд...</td>\n      <td>1910349</td>\n      <td>1.0</td>\n      <td>2023-02-16 03:57:25</td>\n      <td>2023-01-30 19:55:20</td>\n      <td>...</td>\n      <td>0.0</td>\n      <td>0.0</td>\n      <td>0.0</td>\n      <td>0.00</td>\n      <td>0.0</td>\n      <td>0.0</td>\n      <td>0.0</td>\n      <td>0.0</td>\n      <td>0.0</td>\n      <td>0.0</td>\n    </tr>\n    <tr>\n      <th>29</th>\n      <td>32</td>\n      <td>0.000000</td>\n      <td>0.000000</td>\n      <td>0.000000</td>\n      <td>0.000000</td>\n      <td>🙌 🏻cześć  📆 mamy początek miesiąca  a to oznac...</td>\n      <td>32</td>\n      <td>0.0</td>\n      <td>2023-07-01 08:01:40</td>\n      <td>2023-05-31 06:29:37</td>\n      <td>...</td>\n      <td>0.0</td>\n      <td>0.0</td>\n      <td>0.0</td>\n      <td>0.00</td>\n      <td>1.0</td>\n      <td>0.0</td>\n      <td>0.0</td>\n      <td>0.0</td>\n      <td>0.0</td>\n      <td>0.0</td>\n    </tr>\n  </tbody>\n</table>\n<p>29 rows × 2066 columns</p>\n</div>"
     },
     "execution_count": 103,
     "metadata": {},
     "output_type": "execute_result"
    }
   ],
   "source": [
    "result_df_normalized"
   ],
   "metadata": {
    "collapsed": false,
    "ExecuteTime": {
     "end_time": "2023-07-23T16:20:09.289142200Z",
     "start_time": "2023-07-23T16:20:09.253385Z"
    }
   }
  },
  {
   "cell_type": "code",
   "execution_count": 104,
   "outputs": [],
   "source": [
    "import os\n",
    "\n",
    "def new_messages_to_file(df):\n",
    "    # Create the directory\n",
    "    directory = 'files'\n",
    "    if not os.path.exists(directory):\n",
    "        os.makedirs(directory)\n",
    "\n",
    "    # Save the CSV files in the created directory\n",
    "    for name in '1':\n",
    "        df.to_csv(os.path.join(directory, f'{name}normalized.csv'), encoding=\"utf-8-sig\")\n",
    "\n",
    "new_messages_to_file(result_df_normalized)"
   ],
   "metadata": {
    "collapsed": false,
    "ExecuteTime": {
     "end_time": "2023-07-23T16:20:54.666731200Z",
     "start_time": "2023-07-23T16:20:54.600950300Z"
    }
   }
  },
  {
   "cell_type": "code",
   "execution_count": 107,
   "outputs": [],
   "source": [
    "%matplotlib inline\n",
    "import matplotlib.pyplot as plt\n",
    "import csv\n",
    "import sklearn\n",
    "import pickle\n",
    "from wordcloud import WordCloud\n",
    "import pandas as pd\n",
    "import numpy as np\n",
    "import nltk\n",
    "from nltk.corpus import stopwords\n",
    "from sklearn.feature_extraction.text import CountVectorizer, TfidfTransformer\n",
    "from sklearn.tree import DecisionTreeClassifier\n",
    "from sklearn.model_selection import GridSearchCV,train_test_split,StratifiedKFold,cross_val_score,learning_curve"
   ],
   "metadata": {
    "collapsed": false,
    "ExecuteTime": {
     "end_time": "2023-07-23T16:52:27.795324100Z",
     "start_time": "2023-07-23T16:52:27.059631800Z"
    }
   }
  },
  {
   "cell_type": "markdown",
   "source": [
    "Features"
   ],
   "metadata": {
    "collapsed": false
   }
  },
  {
   "cell_type": "code",
   "execution_count": 151,
   "outputs": [
    {
     "data": {
      "text/plain": "(29, 2049)"
     },
     "execution_count": 151,
     "metadata": {},
     "output_type": "execute_result"
    }
   ],
   "source": [
    "#convert the text data into vectors\n",
    "from sklearn.feature_extraction.text import TfidfVectorizer\n",
    "\n",
    "vectorizer = TfidfVectorizer()\n",
    "vectors = vectorizer.fit_transform(result_df_normalized['text'])\n",
    "vectors.shape"
   ],
   "metadata": {
    "collapsed": false,
    "ExecuteTime": {
     "end_time": "2023-07-23T17:05:10.272220600Z",
     "start_time": "2023-07-23T17:05:10.254230100Z"
    }
   }
  },
  {
   "cell_type": "code",
   "execution_count": 152,
   "outputs": [
    {
     "name": "stdout",
     "output_type": "stream",
     "text": [
      "(29, 2049)\n",
      "(29,)\n"
     ]
    }
   ],
   "source": [
    "features = vectors\n",
    "\n",
    "print(features.shape)\n",
    "print(result_df_normalized['text'].shape)"
   ],
   "metadata": {
    "collapsed": false,
    "ExecuteTime": {
     "end_time": "2023-07-23T17:05:20.756516100Z",
     "start_time": "2023-07-23T17:05:20.751503200Z"
    }
   }
  },
  {
   "cell_type": "code",
   "execution_count": 169,
   "outputs": [],
   "source": [
    "X_train, X_test, y_train, y_test = train_test_split(features, result_df_normalized['text'], test_size=0.15, random_state=111)"
   ],
   "metadata": {
    "collapsed": false,
    "ExecuteTime": {
     "end_time": "2023-07-23T17:08:51.807775600Z",
     "start_time": "2023-07-23T17:08:51.795916100Z"
    }
   }
  },
  {
   "cell_type": "code",
   "execution_count": 170,
   "outputs": [],
   "source": [
    "#import sklearn packages for building classifiers\n",
    "from sklearn.linear_model import LogisticRegression\n",
    "from sklearn.svm import SVC\n",
    "from sklearn.naive_bayes import MultinomialNB\n",
    "from sklearn.tree import DecisionTreeClassifier\n",
    "from sklearn.neighbors import KNeighborsClassifier\n",
    "from sklearn.ensemble import RandomForestClassifier\n",
    "from sklearn.metrics import accuracy_score"
   ],
   "metadata": {
    "collapsed": false,
    "ExecuteTime": {
     "end_time": "2023-07-23T17:08:52.416667300Z",
     "start_time": "2023-07-23T17:08:52.412154900Z"
    }
   }
  },
  {
   "cell_type": "code",
   "execution_count": 171,
   "outputs": [],
   "source": [
    "#initialize multiple classification models\n",
    "svc = SVC(kernel='sigmoid', gamma=1.0)\n",
    "knc = KNeighborsClassifier(n_neighbors=49)\n",
    "mnb = MultinomialNB(alpha=0.2)\n",
    "dtc = DecisionTreeClassifier(min_samples_split=7, random_state=111)\n",
    "lrc = LogisticRegression(solver='liblinear', penalty='l1')\n",
    "rfc = RandomForestClassifier(n_estimators=31, random_state=111)"
   ],
   "metadata": {
    "collapsed": false,
    "ExecuteTime": {
     "end_time": "2023-07-23T17:08:53.101013900Z",
     "start_time": "2023-07-23T17:08:53.092900800Z"
    }
   }
  },
  {
   "cell_type": "code",
   "execution_count": 172,
   "outputs": [],
   "source": [
    "#create a dictionary of variables and models\n",
    "clfs = {'SVC' : svc, 'NB': mnb, 'DT': dtc, 'LR': lrc, 'RF': rfc}"
   ],
   "metadata": {
    "collapsed": false,
    "ExecuteTime": {
     "end_time": "2023-07-23T17:08:53.877044900Z",
     "start_time": "2023-07-23T17:08:53.872025800Z"
    }
   }
  },
  {
   "cell_type": "code",
   "execution_count": 173,
   "outputs": [],
   "source": [
    "\n",
    "#fit the data onto the models\n",
    "def train(clf, features, targets):\n",
    "    clf.fit(features, targets)\n",
    "\n",
    "def predict(clf, features):\n",
    "    return (clf.predict(features))"
   ],
   "metadata": {
    "collapsed": false,
    "ExecuteTime": {
     "end_time": "2023-07-23T17:08:55.126436100Z",
     "start_time": "2023-07-23T17:08:55.120920400Z"
    }
   }
  },
  {
   "cell_type": "code",
   "execution_count": 174,
   "outputs": [],
   "source": [
    "pred_scores_word_vectors = []\n",
    "for k,v in clfs.items():\n",
    "    train(v, X_train, y_train)\n",
    "    pred = predict(v, X_test)\n",
    "    pred_scores_word_vectors.append((k, [accuracy_score(y_test , pred)]))"
   ],
   "metadata": {
    "collapsed": false,
    "ExecuteTime": {
     "end_time": "2023-07-23T17:08:55.937750800Z",
     "start_time": "2023-07-23T17:08:55.858818400Z"
    }
   }
  },
  {
   "cell_type": "code",
   "execution_count": 175,
   "outputs": [
    {
     "data": {
      "text/plain": "[('SVC', [0.0]), ('NB', [0.0]), ('DT', [0.0]), ('LR', [0.0]), ('RF', [0.0])]"
     },
     "execution_count": 175,
     "metadata": {},
     "output_type": "execute_result"
    }
   ],
   "source": [
    "pred_scores_word_vectors"
   ],
   "metadata": {
    "collapsed": false,
    "ExecuteTime": {
     "end_time": "2023-07-23T17:08:56.648441600Z",
     "start_time": "2023-07-23T17:08:56.642736600Z"
    }
   }
  },
  {
   "cell_type": "code",
   "execution_count": 163,
   "outputs": [],
   "source": [
    "def find(x):\n",
    "    if x == 1:\n",
    "        print (\"Message is SPAM\")\n",
    "    else:\n",
    "        print (\"Message is NOT Spam\")"
   ],
   "metadata": {
    "collapsed": false,
    "ExecuteTime": {
     "end_time": "2023-07-23T17:07:12.004236900Z",
     "start_time": "2023-07-23T17:07:12.001225800Z"
    }
   }
  },
  {
   "cell_type": "code",
   "execution_count": 164,
   "outputs": [],
   "source": [
    "\n",
    "newtext = [\"Free entry\"]\n",
    "integers = vectorizer.fit_transform(newtext)"
   ],
   "metadata": {
    "collapsed": false,
    "ExecuteTime": {
     "end_time": "2023-07-23T17:07:13.562057900Z",
     "start_time": "2023-07-23T17:07:13.558249200Z"
    }
   }
  },
  {
   "cell_type": "code",
   "execution_count": 121,
   "outputs": [
    {
     "ename": "ValueError",
     "evalue": "X has 2 features, but SVC is expecting 2051 features as input.",
     "output_type": "error",
     "traceback": [
      "\u001B[1;31m---------------------------------------------------------------------------\u001B[0m",
      "\u001B[1;31mValueError\u001B[0m                                Traceback (most recent call last)",
      "Cell \u001B[1;32mIn[121], line 1\u001B[0m\n\u001B[1;32m----> 1\u001B[0m x \u001B[38;5;241m=\u001B[39m \u001B[43msvc\u001B[49m\u001B[38;5;241;43m.\u001B[39;49m\u001B[43mpredict\u001B[49m\u001B[43m(\u001B[49m\u001B[43mintegers\u001B[49m\u001B[43m)\u001B[49m\n\u001B[0;32m      2\u001B[0m find(x)\n",
      "File \u001B[1;32m~\\PycharmProjects\\pythonProject1\\venv\\ens\\Lib\\site-packages\\sklearn\\svm\\_base.py:818\u001B[0m, in \u001B[0;36mBaseSVC.predict\u001B[1;34m(self, X)\u001B[0m\n\u001B[0;32m    816\u001B[0m     y \u001B[38;5;241m=\u001B[39m np\u001B[38;5;241m.\u001B[39margmax(\u001B[38;5;28mself\u001B[39m\u001B[38;5;241m.\u001B[39mdecision_function(X), axis\u001B[38;5;241m=\u001B[39m\u001B[38;5;241m1\u001B[39m)\n\u001B[0;32m    817\u001B[0m \u001B[38;5;28;01melse\u001B[39;00m:\n\u001B[1;32m--> 818\u001B[0m     y \u001B[38;5;241m=\u001B[39m \u001B[38;5;28;43msuper\u001B[39;49m\u001B[43m(\u001B[49m\u001B[43m)\u001B[49m\u001B[38;5;241;43m.\u001B[39;49m\u001B[43mpredict\u001B[49m\u001B[43m(\u001B[49m\u001B[43mX\u001B[49m\u001B[43m)\u001B[49m\n\u001B[0;32m    819\u001B[0m \u001B[38;5;28;01mreturn\u001B[39;00m \u001B[38;5;28mself\u001B[39m\u001B[38;5;241m.\u001B[39mclasses_\u001B[38;5;241m.\u001B[39mtake(np\u001B[38;5;241m.\u001B[39masarray(y, dtype\u001B[38;5;241m=\u001B[39mnp\u001B[38;5;241m.\u001B[39mintp))\n",
      "File \u001B[1;32m~\\PycharmProjects\\pythonProject1\\venv\\ens\\Lib\\site-packages\\sklearn\\svm\\_base.py:431\u001B[0m, in \u001B[0;36mBaseLibSVM.predict\u001B[1;34m(self, X)\u001B[0m\n\u001B[0;32m    415\u001B[0m \u001B[38;5;28;01mdef\u001B[39;00m \u001B[38;5;21mpredict\u001B[39m(\u001B[38;5;28mself\u001B[39m, X):\n\u001B[0;32m    416\u001B[0m \u001B[38;5;250m    \u001B[39m\u001B[38;5;124;03m\"\"\"Perform regression on samples in X.\u001B[39;00m\n\u001B[0;32m    417\u001B[0m \n\u001B[0;32m    418\u001B[0m \u001B[38;5;124;03m    For an one-class model, +1 (inlier) or -1 (outlier) is returned.\u001B[39;00m\n\u001B[1;32m   (...)\u001B[0m\n\u001B[0;32m    429\u001B[0m \u001B[38;5;124;03m        The predicted values.\u001B[39;00m\n\u001B[0;32m    430\u001B[0m \u001B[38;5;124;03m    \"\"\"\u001B[39;00m\n\u001B[1;32m--> 431\u001B[0m     X \u001B[38;5;241m=\u001B[39m \u001B[38;5;28;43mself\u001B[39;49m\u001B[38;5;241;43m.\u001B[39;49m\u001B[43m_validate_for_predict\u001B[49m\u001B[43m(\u001B[49m\u001B[43mX\u001B[49m\u001B[43m)\u001B[49m\n\u001B[0;32m    432\u001B[0m     predict \u001B[38;5;241m=\u001B[39m \u001B[38;5;28mself\u001B[39m\u001B[38;5;241m.\u001B[39m_sparse_predict \u001B[38;5;28;01mif\u001B[39;00m \u001B[38;5;28mself\u001B[39m\u001B[38;5;241m.\u001B[39m_sparse \u001B[38;5;28;01melse\u001B[39;00m \u001B[38;5;28mself\u001B[39m\u001B[38;5;241m.\u001B[39m_dense_predict\n\u001B[0;32m    433\u001B[0m     \u001B[38;5;28;01mreturn\u001B[39;00m predict(X)\n",
      "File \u001B[1;32m~\\PycharmProjects\\pythonProject1\\venv\\ens\\Lib\\site-packages\\sklearn\\svm\\_base.py:611\u001B[0m, in \u001B[0;36mBaseLibSVM._validate_for_predict\u001B[1;34m(self, X)\u001B[0m\n\u001B[0;32m    608\u001B[0m check_is_fitted(\u001B[38;5;28mself\u001B[39m)\n\u001B[0;32m    610\u001B[0m \u001B[38;5;28;01mif\u001B[39;00m \u001B[38;5;129;01mnot\u001B[39;00m \u001B[38;5;28mcallable\u001B[39m(\u001B[38;5;28mself\u001B[39m\u001B[38;5;241m.\u001B[39mkernel):\n\u001B[1;32m--> 611\u001B[0m     X \u001B[38;5;241m=\u001B[39m \u001B[38;5;28;43mself\u001B[39;49m\u001B[38;5;241;43m.\u001B[39;49m\u001B[43m_validate_data\u001B[49m\u001B[43m(\u001B[49m\n\u001B[0;32m    612\u001B[0m \u001B[43m        \u001B[49m\u001B[43mX\u001B[49m\u001B[43m,\u001B[49m\n\u001B[0;32m    613\u001B[0m \u001B[43m        \u001B[49m\u001B[43maccept_sparse\u001B[49m\u001B[38;5;241;43m=\u001B[39;49m\u001B[38;5;124;43m\"\u001B[39;49m\u001B[38;5;124;43mcsr\u001B[39;49m\u001B[38;5;124;43m\"\u001B[39;49m\u001B[43m,\u001B[49m\n\u001B[0;32m    614\u001B[0m \u001B[43m        \u001B[49m\u001B[43mdtype\u001B[49m\u001B[38;5;241;43m=\u001B[39;49m\u001B[43mnp\u001B[49m\u001B[38;5;241;43m.\u001B[39;49m\u001B[43mfloat64\u001B[49m\u001B[43m,\u001B[49m\n\u001B[0;32m    615\u001B[0m \u001B[43m        \u001B[49m\u001B[43morder\u001B[49m\u001B[38;5;241;43m=\u001B[39;49m\u001B[38;5;124;43m\"\u001B[39;49m\u001B[38;5;124;43mC\u001B[39;49m\u001B[38;5;124;43m\"\u001B[39;49m\u001B[43m,\u001B[49m\n\u001B[0;32m    616\u001B[0m \u001B[43m        \u001B[49m\u001B[43maccept_large_sparse\u001B[49m\u001B[38;5;241;43m=\u001B[39;49m\u001B[38;5;28;43;01mFalse\u001B[39;49;00m\u001B[43m,\u001B[49m\n\u001B[0;32m    617\u001B[0m \u001B[43m        \u001B[49m\u001B[43mreset\u001B[49m\u001B[38;5;241;43m=\u001B[39;49m\u001B[38;5;28;43;01mFalse\u001B[39;49;00m\u001B[43m,\u001B[49m\n\u001B[0;32m    618\u001B[0m \u001B[43m    \u001B[49m\u001B[43m)\u001B[49m\n\u001B[0;32m    620\u001B[0m \u001B[38;5;28;01mif\u001B[39;00m \u001B[38;5;28mself\u001B[39m\u001B[38;5;241m.\u001B[39m_sparse \u001B[38;5;129;01mand\u001B[39;00m \u001B[38;5;129;01mnot\u001B[39;00m sp\u001B[38;5;241m.\u001B[39misspmatrix(X):\n\u001B[0;32m    621\u001B[0m     X \u001B[38;5;241m=\u001B[39m sp\u001B[38;5;241m.\u001B[39mcsr_matrix(X)\n",
      "File \u001B[1;32m~\\PycharmProjects\\pythonProject1\\venv\\ens\\Lib\\site-packages\\sklearn\\base.py:625\u001B[0m, in \u001B[0;36mBaseEstimator._validate_data\u001B[1;34m(self, X, y, reset, validate_separately, cast_to_ndarray, **check_params)\u001B[0m\n\u001B[0;32m    622\u001B[0m     out \u001B[38;5;241m=\u001B[39m X, y\n\u001B[0;32m    624\u001B[0m \u001B[38;5;28;01mif\u001B[39;00m \u001B[38;5;129;01mnot\u001B[39;00m no_val_X \u001B[38;5;129;01mand\u001B[39;00m check_params\u001B[38;5;241m.\u001B[39mget(\u001B[38;5;124m\"\u001B[39m\u001B[38;5;124mensure_2d\u001B[39m\u001B[38;5;124m\"\u001B[39m, \u001B[38;5;28;01mTrue\u001B[39;00m):\n\u001B[1;32m--> 625\u001B[0m     \u001B[38;5;28;43mself\u001B[39;49m\u001B[38;5;241;43m.\u001B[39;49m\u001B[43m_check_n_features\u001B[49m\u001B[43m(\u001B[49m\u001B[43mX\u001B[49m\u001B[43m,\u001B[49m\u001B[43m \u001B[49m\u001B[43mreset\u001B[49m\u001B[38;5;241;43m=\u001B[39;49m\u001B[43mreset\u001B[49m\u001B[43m)\u001B[49m\n\u001B[0;32m    627\u001B[0m \u001B[38;5;28;01mreturn\u001B[39;00m out\n",
      "File \u001B[1;32m~\\PycharmProjects\\pythonProject1\\venv\\ens\\Lib\\site-packages\\sklearn\\base.py:414\u001B[0m, in \u001B[0;36mBaseEstimator._check_n_features\u001B[1;34m(self, X, reset)\u001B[0m\n\u001B[0;32m    411\u001B[0m     \u001B[38;5;28;01mreturn\u001B[39;00m\n\u001B[0;32m    413\u001B[0m \u001B[38;5;28;01mif\u001B[39;00m n_features \u001B[38;5;241m!=\u001B[39m \u001B[38;5;28mself\u001B[39m\u001B[38;5;241m.\u001B[39mn_features_in_:\n\u001B[1;32m--> 414\u001B[0m     \u001B[38;5;28;01mraise\u001B[39;00m \u001B[38;5;167;01mValueError\u001B[39;00m(\n\u001B[0;32m    415\u001B[0m         \u001B[38;5;124mf\u001B[39m\u001B[38;5;124m\"\u001B[39m\u001B[38;5;124mX has \u001B[39m\u001B[38;5;132;01m{\u001B[39;00mn_features\u001B[38;5;132;01m}\u001B[39;00m\u001B[38;5;124m features, but \u001B[39m\u001B[38;5;132;01m{\u001B[39;00m\u001B[38;5;28mself\u001B[39m\u001B[38;5;241m.\u001B[39m\u001B[38;5;18m__class__\u001B[39m\u001B[38;5;241m.\u001B[39m\u001B[38;5;18m__name__\u001B[39m\u001B[38;5;132;01m}\u001B[39;00m\u001B[38;5;124m \u001B[39m\u001B[38;5;124m\"\u001B[39m\n\u001B[0;32m    416\u001B[0m         \u001B[38;5;124mf\u001B[39m\u001B[38;5;124m\"\u001B[39m\u001B[38;5;124mis expecting \u001B[39m\u001B[38;5;132;01m{\u001B[39;00m\u001B[38;5;28mself\u001B[39m\u001B[38;5;241m.\u001B[39mn_features_in_\u001B[38;5;132;01m}\u001B[39;00m\u001B[38;5;124m features as input.\u001B[39m\u001B[38;5;124m\"\u001B[39m\n\u001B[0;32m    417\u001B[0m     )\n",
      "\u001B[1;31mValueError\u001B[0m: X has 2 features, but SVC is expecting 2051 features as input."
     ]
    }
   ],
   "source": [
    "x = svc.predict(integers)\n",
    "find(x)"
   ],
   "metadata": {
    "collapsed": false,
    "ExecuteTime": {
     "end_time": "2023-07-23T16:55:34.776437100Z",
     "start_time": "2023-07-23T16:55:34.673305400Z"
    }
   }
  },
  {
   "cell_type": "code",
   "execution_count": 177,
   "outputs": [
    {
     "data": {
      "text/plain": "<Figure size 500x500 with 2 Axes>",
      "image/png": "[encoded data removed]"
     },
     "metadata": {},
     "output_type": "display_data"
    }
   ],
   "source": [
    "from sklearn.metrics import confusion_matrix\n",
    "import seaborn as sns\n",
    "# Naive Bayes\n",
    "y_pred_nb = svc.predict(X_test)\n",
    "y_true_nb = y_test\n",
    "cm = confusion_matrix(y_true_nb, y_pred_nb)\n",
    "f, ax = plt.subplots(figsize =(5,5))\n",
    "sns.heatmap(cm,annot = True,linewidths=0.5,linecolor=\"red\",fmt = \".0f\",ax=ax)\n",
    "plt.xlabel(\"y_pred_nb\")\n",
    "plt.ylabel(\"y_true_nb\")\n",
    "plt.show()"
   ],
   "metadata": {
    "collapsed": false,
    "ExecuteTime": {
     "end_time": "2023-07-23T17:09:48.722631500Z",
     "start_time": "2023-07-23T17:09:48.502549200Z"
    }
   }
  },
  {
   "cell_type": "code",
   "execution_count": null,
   "outputs": [],
   "source": [],
   "metadata": {
    "collapsed": false
   }
  },
  {
   "cell_type": "code",
   "execution_count": null,
   "outputs": [],
   "source": [],
   "metadata": {
    "collapsed": false
   }
  },
  {
   "cell_type": "code",
   "execution_count": null,
   "outputs": [],
   "source": [],
   "metadata": {
    "collapsed": false
   }
  },
  {
   "cell_type": "code",
   "execution_count": null,
   "outputs": [],
   "source": [],
   "metadata": {
    "collapsed": false
   }
  }
 ],
 "metadata": {
  "kernelspec": {
   "display_name": "Python 3",
   "language": "python",
   "name": "python3"
  },
  "language_info": {
   "codemirror_mode": {
    "name": "ipython",
    "version": 2
   },
   "file_extension": ".py",
   "mimetype": "text/x-python",
   "name": "python",
   "nbconvert_exporter": "python",
   "pygments_lexer": "ipython2",
   "version": "2.7.6"
  }
 },
 "nbformat": 4,
 "nbformat_minor": 0
}
